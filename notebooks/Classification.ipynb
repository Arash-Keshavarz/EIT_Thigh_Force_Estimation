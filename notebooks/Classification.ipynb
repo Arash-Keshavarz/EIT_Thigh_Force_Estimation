{
 "cells": [
  {
   "cell_type": "code",
   "execution_count": 2,
   "metadata": {},
   "outputs": [],
   "source": [
    "import os\n",
    "import numpy as np\n",
    "import matplotlib.pyplot as plt\n",
    "import seaborn as sns\n",
    "\n",
    "from sklearn.model_selection import LeaveOneGroupOut\n",
    "\n",
    "from sklearn.preprocessing import StandardScaler\n",
    "from sklearn.svm import SVC\n",
    "from sklearn.model_selection import train_test_split\n",
    "from sklearn.ensemble import RandomForestClassifier\n",
    "from sklearn.metrics import confusion_matrix, classification_report, accuracy_score\n"
   ]
  },
  {
   "cell_type": "code",
   "execution_count": 5,
   "metadata": {},
   "outputs": [
    {
     "name": "stdout",
     "output_type": "stream",
     "text": [
      "Training files: 18635, Testing files: 4828\n"
     ]
    }
   ],
   "source": [
    "training_dataset_dir = \"/Users/MA_Arash/MA_git/EIT_Thigh_Force_Estimation/Data/Training_set\"\n",
    "testing_dataset_dir = \"/Users/MA_Arash/MA_git/EIT_Thigh_Force_Estimation/Data/Test_set\"\n",
    "\n",
    "datasets = {\n",
    "    \"train\": [os.path.join(training_dataset_dir, f) for f in os.listdir(training_dataset_dir) if f.endswith('.npz')],\n",
    "    \"test\": [os.path.join(testing_dataset_dir, f) for f in os.listdir(testing_dataset_dir) if f.endswith('.npz')]\n",
    "}\n",
    "\n",
    "print(f\"Training files: {len(datasets['train'])}, Testing files: {len(datasets['test'])}\")\n"
   ]
  },
  {
   "cell_type": "markdown",
   "metadata": {},
   "source": [
    "## Classification between three classes [Low, Medium, High forces] "
   ]
  },
  {
   "cell_type": "code",
   "execution_count": 7,
   "metadata": {},
   "outputs": [],
   "source": [
    "## [20-40] --> Low\n",
    "## [40-60] --> Medium\n",
    "## [60-80] --> High\n",
    "def categorize_target_force(target_force):\n",
    "    if target_force <= 40:\n",
    "        return 0  # Small\n",
    "    elif target_force <= 60:\n",
    "        return 1  # Middle\n",
    "    else:\n",
    "        return 2  # High\n",
    "    \n",
    "def load_data(npz_files):\n",
    "    X = []\n",
    "    y = []\n",
    "    participants = []  # Store participant IDs\n",
    "\n",
    "    for file_path in npz_files:\n",
    "        data = np.load(file_path)\n",
    "\n",
    "        eit_data = data['eit']\n",
    "        target_force = data['target_force']\n",
    "        \n",
    "        # Flatten the 16x16 EIT data\n",
    "        eit_data_flat = eit_data.reshape(-1)\n",
    "\n",
    "        # Get participant ID\n",
    "        participant_id = data['participant'].item()  # Ensure it's a string like \"P07\"\n",
    "\n",
    "        X.append(eit_data_flat)\n",
    "        y.append(categorize_target_force(target_force))\n",
    "        participants.append(participant_id)\n",
    "\n",
    "    return np.array(X), np.array(y), participants"
   ]
  },
  {
   "cell_type": "code",
   "execution_count": 8,
   "metadata": {},
   "outputs": [
    {
     "name": "stdout",
     "output_type": "stream",
     "text": [
      "Training set: 18635 samples\n",
      "Testing set: 4828 samples\n"
     ]
    }
   ],
   "source": [
    "# Load training and testing data separately\n",
    "X_train, y_train, participants_train = load_data(datasets['train'])\n",
    "X_test, y_test, participants_test = load_data(datasets['test'])\n",
    "\n",
    "# Print dataset sizes\n",
    "print(f\"Training set: {len(X_train)} samples\")\n",
    "print(f\"Testing set: {len(X_test)} samples\")\n",
    "\n"
   ]
  },
  {
   "cell_type": "code",
   "execution_count": 17,
   "metadata": {},
   "outputs": [
    {
     "name": "stdout",
     "output_type": "stream",
     "text": [
      "Class Weights: {0: np.float64(1.2003220611916263), 1: np.float64(1.148819431601011), 2: np.float64(0.7713481518274763)}\n",
      "Epoch 1/100\n"
     ]
    },
    {
     "name": "stderr",
     "output_type": "stream",
     "text": [
      "/Users/arash/anaconda3/envs/MA_Arash/lib/python3.10/site-packages/keras/src/layers/core/dense.py:87: UserWarning: Do not pass an `input_shape`/`input_dim` argument to a layer. When using Sequential models, prefer using an `Input(shape)` object as the first layer in the model instead.\n",
      "  super().__init__(activity_regularizer=activity_regularizer, **kwargs)\n"
     ]
    },
    {
     "name": "stdout",
     "output_type": "stream",
     "text": [
      "\u001b[1m583/583\u001b[0m \u001b[32m━━━━━━━━━━━━━━━━━━━━\u001b[0m\u001b[37m\u001b[0m \u001b[1m2s\u001b[0m 1ms/step - accuracy: 0.5495 - loss: 0.9511 - val_accuracy: 0.4186 - val_loss: 1.6820\n",
      "Epoch 2/100\n",
      "\u001b[1m583/583\u001b[0m \u001b[32m━━━━━━━━━━━━━━━━━━━━\u001b[0m\u001b[37m\u001b[0m \u001b[1m1s\u001b[0m 937us/step - accuracy: 0.7523 - loss: 0.5408 - val_accuracy: 0.4070 - val_loss: 1.9593\n",
      "Epoch 3/100\n",
      "\u001b[1m583/583\u001b[0m \u001b[32m━━━━━━━━━━━━━━━━━━━━\u001b[0m\u001b[37m\u001b[0m \u001b[1m0s\u001b[0m 813us/step - accuracy: 0.7952 - loss: 0.4429 - val_accuracy: 0.4217 - val_loss: 2.7530\n",
      "Epoch 4/100\n",
      "\u001b[1m583/583\u001b[0m \u001b[32m━━━━━━━━━━━━━━━━━━━━\u001b[0m\u001b[37m\u001b[0m \u001b[1m1s\u001b[0m 1ms/step - accuracy: 0.8161 - loss: 0.4039 - val_accuracy: 0.4147 - val_loss: 3.9243\n",
      "Epoch 5/100\n",
      "\u001b[1m583/583\u001b[0m \u001b[32m━━━━━━━━━━━━━━━━━━━━\u001b[0m\u001b[37m\u001b[0m \u001b[1m1s\u001b[0m 933us/step - accuracy: 0.8376 - loss: 0.3612 - val_accuracy: 0.4180 - val_loss: 4.9310\n",
      "Epoch 6/100\n",
      "\u001b[1m583/583\u001b[0m \u001b[32m━━━━━━━━━━━━━━━━━━━━\u001b[0m\u001b[37m\u001b[0m \u001b[1m1s\u001b[0m 908us/step - accuracy: 0.8565 - loss: 0.3245 - val_accuracy: 0.4211 - val_loss: 5.9506\n",
      "Epoch 7/100\n",
      "\u001b[1m583/583\u001b[0m \u001b[32m━━━━━━━━━━━━━━━━━━━━\u001b[0m\u001b[37m\u001b[0m \u001b[1m1s\u001b[0m 1ms/step - accuracy: 0.8637 - loss: 0.3117 - val_accuracy: 0.4712 - val_loss: 6.3433\n",
      "Epoch 8/100\n",
      "\u001b[1m583/583\u001b[0m \u001b[32m━━━━━━━━━━━━━━━━━━━━\u001b[0m\u001b[37m\u001b[0m \u001b[1m1s\u001b[0m 992us/step - accuracy: 0.8772 - loss: 0.2786 - val_accuracy: 0.4310 - val_loss: 6.3579\n",
      "Epoch 9/100\n",
      "\u001b[1m583/583\u001b[0m \u001b[32m━━━━━━━━━━━━━━━━━━━━\u001b[0m\u001b[37m\u001b[0m \u001b[1m1s\u001b[0m 979us/step - accuracy: 0.8841 - loss: 0.2703 - val_accuracy: 0.4366 - val_loss: 7.2706\n",
      "Epoch 10/100\n",
      "\u001b[1m583/583\u001b[0m \u001b[32m━━━━━━━━━━━━━━━━━━━━\u001b[0m\u001b[37m\u001b[0m \u001b[1m1s\u001b[0m 907us/step - accuracy: 0.8887 - loss: 0.2648 - val_accuracy: 0.4449 - val_loss: 8.0643\n",
      "Epoch 11/100\n",
      "\u001b[1m583/583\u001b[0m \u001b[32m━━━━━━━━━━━━━━━━━━━━\u001b[0m\u001b[37m\u001b[0m \u001b[1m1s\u001b[0m 968us/step - accuracy: 0.8978 - loss: 0.2429 - val_accuracy: 0.4513 - val_loss: 7.5644\n",
      "Epoch 12/100\n",
      "\u001b[1m583/583\u001b[0m \u001b[32m━━━━━━━━━━━━━━━━━━━━\u001b[0m\u001b[37m\u001b[0m \u001b[1m0s\u001b[0m 840us/step - accuracy: 0.9035 - loss: 0.2347 - val_accuracy: 0.4652 - val_loss: 7.4945\n",
      "Epoch 13/100\n",
      "\u001b[1m583/583\u001b[0m \u001b[32m━━━━━━━━━━━━━━━━━━━━\u001b[0m\u001b[37m\u001b[0m \u001b[1m1s\u001b[0m 866us/step - accuracy: 0.9098 - loss: 0.2146 - val_accuracy: 0.4443 - val_loss: 8.5594\n",
      "Epoch 14/100\n",
      "\u001b[1m583/583\u001b[0m \u001b[32m━━━━━━━━━━━━━━━━━━━━\u001b[0m\u001b[37m\u001b[0m \u001b[1m1s\u001b[0m 890us/step - accuracy: 0.9072 - loss: 0.2276 - val_accuracy: 0.4575 - val_loss: 9.1067\n",
      "Epoch 15/100\n",
      "\u001b[1m583/583\u001b[0m \u001b[32m━━━━━━━━━━━━━━━━━━━━\u001b[0m\u001b[37m\u001b[0m \u001b[1m0s\u001b[0m 805us/step - accuracy: 0.9092 - loss: 0.2176 - val_accuracy: 0.4522 - val_loss: 8.2776\n",
      "Epoch 16/100\n",
      "\u001b[1m583/583\u001b[0m \u001b[32m━━━━━━━━━━━━━━━━━━━━\u001b[0m\u001b[37m\u001b[0m \u001b[1m1s\u001b[0m 851us/step - accuracy: 0.9172 - loss: 0.2083 - val_accuracy: 0.4453 - val_loss: 9.9698\n",
      "Epoch 17/100\n",
      "\u001b[1m583/583\u001b[0m \u001b[32m━━━━━━━━━━━━━━━━━━━━\u001b[0m\u001b[37m\u001b[0m \u001b[1m1s\u001b[0m 865us/step - accuracy: 0.9137 - loss: 0.2060 - val_accuracy: 0.4337 - val_loss: 9.2240\n",
      "Epoch 18/100\n",
      "\u001b[1m583/583\u001b[0m \u001b[32m━━━━━━━━━━━━━━━━━━━━\u001b[0m\u001b[37m\u001b[0m \u001b[1m0s\u001b[0m 795us/step - accuracy: 0.9226 - loss: 0.1899 - val_accuracy: 0.4555 - val_loss: 9.2570\n",
      "Epoch 19/100\n",
      "\u001b[1m583/583\u001b[0m \u001b[32m━━━━━━━━━━━━━━━━━━━━\u001b[0m\u001b[37m\u001b[0m \u001b[1m0s\u001b[0m 837us/step - accuracy: 0.9232 - loss: 0.1892 - val_accuracy: 0.4513 - val_loss: 9.2543\n",
      "Epoch 20/100\n",
      "\u001b[1m583/583\u001b[0m \u001b[32m━━━━━━━━━━━━━━━━━━━━\u001b[0m\u001b[37m\u001b[0m \u001b[1m1s\u001b[0m 857us/step - accuracy: 0.9258 - loss: 0.1808 - val_accuracy: 0.4542 - val_loss: 8.5358\n",
      "Epoch 21/100\n",
      "\u001b[1m583/583\u001b[0m \u001b[32m━━━━━━━━━━━━━━━━━━━━\u001b[0m\u001b[37m\u001b[0m \u001b[1m1s\u001b[0m 883us/step - accuracy: 0.9349 - loss: 0.1634 - val_accuracy: 0.4617 - val_loss: 9.8700\n",
      "Epoch 22/100\n",
      "\u001b[1m583/583\u001b[0m \u001b[32m━━━━━━━━━━━━━━━━━━━━\u001b[0m\u001b[37m\u001b[0m \u001b[1m1s\u001b[0m 872us/step - accuracy: 0.9303 - loss: 0.1723 - val_accuracy: 0.4499 - val_loss: 9.4770\n",
      "Epoch 23/100\n",
      "\u001b[1m583/583\u001b[0m \u001b[32m━━━━━━━━━━━━━━━━━━━━\u001b[0m\u001b[37m\u001b[0m \u001b[1m1s\u001b[0m 890us/step - accuracy: 0.9268 - loss: 0.1758 - val_accuracy: 0.4499 - val_loss: 9.1887\n",
      "Epoch 24/100\n",
      "\u001b[1m583/583\u001b[0m \u001b[32m━━━━━━━━━━━━━━━━━━━━\u001b[0m\u001b[37m\u001b[0m \u001b[1m1s\u001b[0m 972us/step - accuracy: 0.9369 - loss: 0.1625 - val_accuracy: 0.4530 - val_loss: 9.9573\n",
      "Epoch 25/100\n",
      "\u001b[1m583/583\u001b[0m \u001b[32m━━━━━━━━━━━━━━━━━━━━\u001b[0m\u001b[37m\u001b[0m \u001b[1m1s\u001b[0m 897us/step - accuracy: 0.9321 - loss: 0.1652 - val_accuracy: 0.4482 - val_loss: 10.0933\n",
      "Epoch 26/100\n",
      "\u001b[1m583/583\u001b[0m \u001b[32m━━━━━━━━━━━━━━━━━━━━\u001b[0m\u001b[37m\u001b[0m \u001b[1m1s\u001b[0m 1ms/step - accuracy: 0.9341 - loss: 0.1581 - val_accuracy: 0.4403 - val_loss: 9.7730\n",
      "Epoch 27/100\n",
      "\u001b[1m583/583\u001b[0m \u001b[32m━━━━━━━━━━━━━━━━━━━━\u001b[0m\u001b[37m\u001b[0m \u001b[1m1s\u001b[0m 947us/step - accuracy: 0.9389 - loss: 0.1519 - val_accuracy: 0.4372 - val_loss: 8.6091\n",
      "Epoch 28/100\n",
      "\u001b[1m583/583\u001b[0m \u001b[32m━━━━━━━━━━━━━━━━━━━━\u001b[0m\u001b[37m\u001b[0m \u001b[1m1s\u001b[0m 892us/step - accuracy: 0.9390 - loss: 0.1483 - val_accuracy: 0.4447 - val_loss: 10.4626\n",
      "Epoch 29/100\n",
      "\u001b[1m583/583\u001b[0m \u001b[32m━━━━━━━━━━━━━━━━━━━━\u001b[0m\u001b[37m\u001b[0m \u001b[1m1s\u001b[0m 856us/step - accuracy: 0.9406 - loss: 0.1504 - val_accuracy: 0.4432 - val_loss: 10.1416\n",
      "Epoch 30/100\n",
      "\u001b[1m583/583\u001b[0m \u001b[32m━━━━━━━━━━━━━━━━━━━━\u001b[0m\u001b[37m\u001b[0m \u001b[1m1s\u001b[0m 893us/step - accuracy: 0.9383 - loss: 0.1520 - val_accuracy: 0.4422 - val_loss: 9.3589\n",
      "Epoch 31/100\n",
      "\u001b[1m583/583\u001b[0m \u001b[32m━━━━━━━━━━━━━━━━━━━━\u001b[0m\u001b[37m\u001b[0m \u001b[1m0s\u001b[0m 831us/step - accuracy: 0.9410 - loss: 0.1563 - val_accuracy: 0.4248 - val_loss: 8.9679\n",
      "Epoch 32/100\n",
      "\u001b[1m583/583\u001b[0m \u001b[32m━━━━━━━━━━━━━━━━━━━━\u001b[0m\u001b[37m\u001b[0m \u001b[1m1s\u001b[0m 846us/step - accuracy: 0.9409 - loss: 0.1504 - val_accuracy: 0.4453 - val_loss: 8.7989\n",
      "Epoch 33/100\n",
      "\u001b[1m583/583\u001b[0m \u001b[32m━━━━━━━━━━━━━━━━━━━━\u001b[0m\u001b[37m\u001b[0m \u001b[1m1s\u001b[0m 856us/step - accuracy: 0.9424 - loss: 0.1433 - val_accuracy: 0.4501 - val_loss: 11.0651\n",
      "Epoch 34/100\n",
      "\u001b[1m583/583\u001b[0m \u001b[32m━━━━━━━━━━━━━━━━━━━━\u001b[0m\u001b[37m\u001b[0m \u001b[1m1s\u001b[0m 1ms/step - accuracy: 0.9442 - loss: 0.1422 - val_accuracy: 0.4484 - val_loss: 9.7624\n",
      "Epoch 35/100\n",
      "\u001b[1m583/583\u001b[0m \u001b[32m━━━━━━━━━━━━━━━━━━━━\u001b[0m\u001b[37m\u001b[0m \u001b[1m1s\u001b[0m 875us/step - accuracy: 0.9464 - loss: 0.1360 - val_accuracy: 0.4519 - val_loss: 8.9957\n",
      "Epoch 36/100\n",
      "\u001b[1m583/583\u001b[0m \u001b[32m━━━━━━━━━━━━━━━━━━━━\u001b[0m\u001b[37m\u001b[0m \u001b[1m0s\u001b[0m 828us/step - accuracy: 0.9441 - loss: 0.1414 - val_accuracy: 0.4470 - val_loss: 8.7571\n",
      "Epoch 37/100\n",
      "\u001b[1m583/583\u001b[0m \u001b[32m━━━━━━━━━━━━━━━━━━━━\u001b[0m\u001b[37m\u001b[0m \u001b[1m0s\u001b[0m 801us/step - accuracy: 0.9448 - loss: 0.1390 - val_accuracy: 0.4515 - val_loss: 8.6379\n",
      "Epoch 38/100\n",
      "\u001b[1m583/583\u001b[0m \u001b[32m━━━━━━━━━━━━━━━━━━━━\u001b[0m\u001b[37m\u001b[0m \u001b[1m1s\u001b[0m 848us/step - accuracy: 0.9514 - loss: 0.1299 - val_accuracy: 0.4474 - val_loss: 9.4529\n",
      "Epoch 39/100\n",
      "\u001b[1m583/583\u001b[0m \u001b[32m━━━━━━━━━━━━━━━━━━━━\u001b[0m\u001b[37m\u001b[0m \u001b[1m1s\u001b[0m 904us/step - accuracy: 0.9506 - loss: 0.1281 - val_accuracy: 0.4594 - val_loss: 9.2280\n",
      "Epoch 40/100\n",
      "\u001b[1m583/583\u001b[0m \u001b[32m━━━━━━━━━━━━━━━━━━━━\u001b[0m\u001b[37m\u001b[0m \u001b[1m0s\u001b[0m 820us/step - accuracy: 0.9475 - loss: 0.1281 - val_accuracy: 0.4555 - val_loss: 10.1131\n",
      "Epoch 41/100\n",
      "\u001b[1m583/583\u001b[0m \u001b[32m━━━━━━━━━━━━━━━━━━━━\u001b[0m\u001b[37m\u001b[0m \u001b[1m1s\u001b[0m 870us/step - accuracy: 0.9487 - loss: 0.1315 - val_accuracy: 0.4592 - val_loss: 9.3861\n",
      "Epoch 42/100\n",
      "\u001b[1m583/583\u001b[0m \u001b[32m━━━━━━━━━━━━━━━━━━━━\u001b[0m\u001b[37m\u001b[0m \u001b[1m1s\u001b[0m 842us/step - accuracy: 0.9525 - loss: 0.1233 - val_accuracy: 0.4733 - val_loss: 9.3674\n",
      "Epoch 43/100\n",
      "\u001b[1m583/583\u001b[0m \u001b[32m━━━━━━━━━━━━━━━━━━━━\u001b[0m\u001b[37m\u001b[0m \u001b[1m1s\u001b[0m 1ms/step - accuracy: 0.9506 - loss: 0.1230 - val_accuracy: 0.4702 - val_loss: 9.5104\n",
      "Epoch 44/100\n",
      "\u001b[1m583/583\u001b[0m \u001b[32m━━━━━━━━━━━━━━━━━━━━\u001b[0m\u001b[37m\u001b[0m \u001b[1m1s\u001b[0m 910us/step - accuracy: 0.9558 - loss: 0.1168 - val_accuracy: 0.4586 - val_loss: 10.1081\n",
      "Epoch 45/100\n",
      "\u001b[1m583/583\u001b[0m \u001b[32m━━━━━━━━━━━━━━━━━━━━\u001b[0m\u001b[37m\u001b[0m \u001b[1m0s\u001b[0m 819us/step - accuracy: 0.9496 - loss: 0.1286 - val_accuracy: 0.4615 - val_loss: 9.0151\n",
      "Epoch 46/100\n",
      "\u001b[1m583/583\u001b[0m \u001b[32m━━━━━━━━━━━━━━━━━━━━\u001b[0m\u001b[37m\u001b[0m \u001b[1m0s\u001b[0m 839us/step - accuracy: 0.9506 - loss: 0.1284 - val_accuracy: 0.4594 - val_loss: 9.9626\n",
      "Epoch 47/100\n",
      "\u001b[1m583/583\u001b[0m \u001b[32m━━━━━━━━━━━━━━━━━━━━\u001b[0m\u001b[37m\u001b[0m \u001b[1m0s\u001b[0m 833us/step - accuracy: 0.9509 - loss: 0.1241 - val_accuracy: 0.4700 - val_loss: 8.8797\n",
      "Epoch 48/100\n",
      "\u001b[1m583/583\u001b[0m \u001b[32m━━━━━━━━━━━━━━━━━━━━\u001b[0m\u001b[37m\u001b[0m \u001b[1m0s\u001b[0m 822us/step - accuracy: 0.9495 - loss: 0.1269 - val_accuracy: 0.4501 - val_loss: 7.9108\n",
      "Epoch 49/100\n",
      "\u001b[1m583/583\u001b[0m \u001b[32m━━━━━━━━━━━━━━━━━━━━\u001b[0m\u001b[37m\u001b[0m \u001b[1m1s\u001b[0m 852us/step - accuracy: 0.9553 - loss: 0.1162 - val_accuracy: 0.4602 - val_loss: 9.4062\n",
      "Epoch 50/100\n",
      "\u001b[1m583/583\u001b[0m \u001b[32m━━━━━━━━━━━━━━━━━━━━\u001b[0m\u001b[37m\u001b[0m \u001b[1m1s\u001b[0m 924us/step - accuracy: 0.9511 - loss: 0.1226 - val_accuracy: 0.4648 - val_loss: 8.2077\n",
      "Epoch 51/100\n",
      "\u001b[1m583/583\u001b[0m \u001b[32m━━━━━━━━━━━━━━━━━━━━\u001b[0m\u001b[37m\u001b[0m \u001b[1m1s\u001b[0m 861us/step - accuracy: 0.9567 - loss: 0.1140 - val_accuracy: 0.4565 - val_loss: 8.4902\n",
      "Epoch 52/100\n",
      "\u001b[1m583/583\u001b[0m \u001b[32m━━━━━━━━━━━━━━━━━━━━\u001b[0m\u001b[37m\u001b[0m \u001b[1m1s\u001b[0m 857us/step - accuracy: 0.9559 - loss: 0.1167 - val_accuracy: 0.4569 - val_loss: 8.8006\n",
      "Epoch 53/100\n",
      "\u001b[1m583/583\u001b[0m \u001b[32m━━━━━━━━━━━━━━━━━━━━\u001b[0m\u001b[37m\u001b[0m \u001b[1m1s\u001b[0m 850us/step - accuracy: 0.9570 - loss: 0.1104 - val_accuracy: 0.4513 - val_loss: 7.6123\n",
      "Epoch 54/100\n",
      "\u001b[1m583/583\u001b[0m \u001b[32m━━━━━━━━━━━━━━━━━━━━\u001b[0m\u001b[37m\u001b[0m \u001b[1m1s\u001b[0m 850us/step - accuracy: 0.9554 - loss: 0.1201 - val_accuracy: 0.4604 - val_loss: 8.5783\n",
      "Epoch 55/100\n",
      "\u001b[1m583/583\u001b[0m \u001b[32m━━━━━━━━━━━━━━━━━━━━\u001b[0m\u001b[37m\u001b[0m \u001b[1m0s\u001b[0m 827us/step - accuracy: 0.9592 - loss: 0.1126 - val_accuracy: 0.4445 - val_loss: 8.7443\n",
      "Epoch 56/100\n",
      "\u001b[1m583/583\u001b[0m \u001b[32m━━━━━━━━━━━━━━━━━━━━\u001b[0m\u001b[37m\u001b[0m \u001b[1m1s\u001b[0m 849us/step - accuracy: 0.9578 - loss: 0.1112 - val_accuracy: 0.4437 - val_loss: 8.7234\n",
      "Epoch 57/100\n",
      "\u001b[1m583/583\u001b[0m \u001b[32m━━━━━━━━━━━━━━━━━━━━\u001b[0m\u001b[37m\u001b[0m \u001b[1m0s\u001b[0m 792us/step - accuracy: 0.9610 - loss: 0.1045 - val_accuracy: 0.4490 - val_loss: 9.2729\n",
      "Epoch 58/100\n",
      "\u001b[1m583/583\u001b[0m \u001b[32m━━━━━━━━━━━━━━━━━━━━\u001b[0m\u001b[37m\u001b[0m \u001b[1m0s\u001b[0m 837us/step - accuracy: 0.9590 - loss: 0.1118 - val_accuracy: 0.4519 - val_loss: 8.6587\n",
      "Epoch 59/100\n",
      "\u001b[1m583/583\u001b[0m \u001b[32m━━━━━━━━━━━━━━━━━━━━\u001b[0m\u001b[37m\u001b[0m \u001b[1m1s\u001b[0m 846us/step - accuracy: 0.9598 - loss: 0.1008 - val_accuracy: 0.4184 - val_loss: 9.1401\n",
      "Epoch 60/100\n",
      "\u001b[1m583/583\u001b[0m \u001b[32m━━━━━━━━━━━━━━━━━━━━\u001b[0m\u001b[37m\u001b[0m \u001b[1m1s\u001b[0m 858us/step - accuracy: 0.9593 - loss: 0.1043 - val_accuracy: 0.4186 - val_loss: 9.0627\n",
      "Epoch 61/100\n",
      "\u001b[1m583/583\u001b[0m \u001b[32m━━━━━━━━━━━━━━━━━━━━\u001b[0m\u001b[37m\u001b[0m \u001b[1m1s\u001b[0m 856us/step - accuracy: 0.9593 - loss: 0.1075 - val_accuracy: 0.4623 - val_loss: 9.8957\n",
      "Epoch 62/100\n",
      "\u001b[1m583/583\u001b[0m \u001b[32m━━━━━━━━━━━━━━━━━━━━\u001b[0m\u001b[37m\u001b[0m \u001b[1m0s\u001b[0m 798us/step - accuracy: 0.9547 - loss: 0.1128 - val_accuracy: 0.4640 - val_loss: 10.0743\n",
      "Epoch 63/100\n",
      "\u001b[1m583/583\u001b[0m \u001b[32m━━━━━━━━━━━━━━━━━━━━\u001b[0m\u001b[37m\u001b[0m \u001b[1m1s\u001b[0m 873us/step - accuracy: 0.9568 - loss: 0.1075 - val_accuracy: 0.4244 - val_loss: 9.5649\n",
      "Epoch 64/100\n",
      "\u001b[1m583/583\u001b[0m \u001b[32m━━━━━━━━━━━━━━━━━━━━\u001b[0m\u001b[37m\u001b[0m \u001b[1m1s\u001b[0m 869us/step - accuracy: 0.9549 - loss: 0.1157 - val_accuracy: 0.4623 - val_loss: 10.2019\n",
      "Epoch 65/100\n",
      "\u001b[1m583/583\u001b[0m \u001b[32m━━━━━━━━━━━━━━━━━━━━\u001b[0m\u001b[37m\u001b[0m \u001b[1m0s\u001b[0m 827us/step - accuracy: 0.9618 - loss: 0.1012 - val_accuracy: 0.4580 - val_loss: 10.0480\n",
      "Epoch 66/100\n",
      "\u001b[1m583/583\u001b[0m \u001b[32m━━━━━━━━━━━━━━━━━━━━\u001b[0m\u001b[37m\u001b[0m \u001b[1m1s\u001b[0m 1ms/step - accuracy: 0.9635 - loss: 0.0951 - val_accuracy: 0.4573 - val_loss: 10.0875\n",
      "Epoch 67/100\n",
      "\u001b[1m583/583\u001b[0m \u001b[32m━━━━━━━━━━━━━━━━━━━━\u001b[0m\u001b[37m\u001b[0m \u001b[1m1s\u001b[0m 876us/step - accuracy: 0.9586 - loss: 0.1039 - val_accuracy: 0.4696 - val_loss: 11.5041\n",
      "Epoch 68/100\n",
      "\u001b[1m583/583\u001b[0m \u001b[32m━━━━━━━━━━━━━━━━━━━━\u001b[0m\u001b[37m\u001b[0m \u001b[1m1s\u001b[0m 854us/step - accuracy: 0.9600 - loss: 0.1020 - val_accuracy: 0.4385 - val_loss: 10.9629\n",
      "Epoch 69/100\n",
      "\u001b[1m583/583\u001b[0m \u001b[32m━━━━━━━━━━━━━━━━━━━━\u001b[0m\u001b[37m\u001b[0m \u001b[1m1s\u001b[0m 849us/step - accuracy: 0.9609 - loss: 0.0985 - val_accuracy: 0.4580 - val_loss: 10.8469\n",
      "Epoch 70/100\n",
      "\u001b[1m583/583\u001b[0m \u001b[32m━━━━━━━━━━━━━━━━━━━━\u001b[0m\u001b[37m\u001b[0m \u001b[1m0s\u001b[0m 841us/step - accuracy: 0.9617 - loss: 0.1018 - val_accuracy: 0.4354 - val_loss: 10.2326\n",
      "Epoch 71/100\n",
      "\u001b[1m583/583\u001b[0m \u001b[32m━━━━━━━━━━━━━━━━━━━━\u001b[0m\u001b[37m\u001b[0m \u001b[1m1s\u001b[0m 845us/step - accuracy: 0.9658 - loss: 0.0930 - val_accuracy: 0.4714 - val_loss: 9.6266\n",
      "Epoch 72/100\n",
      "\u001b[1m583/583\u001b[0m \u001b[32m━━━━━━━━━━━━━━━━━━━━\u001b[0m\u001b[37m\u001b[0m \u001b[1m1s\u001b[0m 860us/step - accuracy: 0.9638 - loss: 0.0949 - val_accuracy: 0.4287 - val_loss: 10.1994\n",
      "Epoch 73/100\n",
      "\u001b[1m583/583\u001b[0m \u001b[32m━━━━━━━━━━━━━━━━━━━━\u001b[0m\u001b[37m\u001b[0m \u001b[1m1s\u001b[0m 846us/step - accuracy: 0.9634 - loss: 0.0969 - val_accuracy: 0.4519 - val_loss: 10.2239\n",
      "Epoch 74/100\n",
      "\u001b[1m583/583\u001b[0m \u001b[32m━━━━━━━━━━━━━━━━━━━━\u001b[0m\u001b[37m\u001b[0m \u001b[1m1s\u001b[0m 868us/step - accuracy: 0.9625 - loss: 0.0982 - val_accuracy: 0.4644 - val_loss: 9.3547\n",
      "Epoch 75/100\n",
      "\u001b[1m583/583\u001b[0m \u001b[32m━━━━━━━━━━━━━━━━━━━━\u001b[0m\u001b[37m\u001b[0m \u001b[1m0s\u001b[0m 834us/step - accuracy: 0.9663 - loss: 0.0868 - val_accuracy: 0.4544 - val_loss: 9.2620\n",
      "Epoch 76/100\n",
      "\u001b[1m583/583\u001b[0m \u001b[32m━━━━━━━━━━━━━━━━━━━━\u001b[0m\u001b[37m\u001b[0m \u001b[1m0s\u001b[0m 818us/step - accuracy: 0.9665 - loss: 0.0867 - val_accuracy: 0.4673 - val_loss: 9.6660\n",
      "Epoch 77/100\n",
      "\u001b[1m583/583\u001b[0m \u001b[32m━━━━━━━━━━━━━━━━━━━━\u001b[0m\u001b[37m\u001b[0m \u001b[1m1s\u001b[0m 902us/step - accuracy: 0.9676 - loss: 0.0860 - val_accuracy: 0.4660 - val_loss: 8.4184\n",
      "Epoch 78/100\n",
      "\u001b[1m583/583\u001b[0m \u001b[32m━━━━━━━━━━━━━━━━━━━━\u001b[0m\u001b[37m\u001b[0m \u001b[1m1s\u001b[0m 844us/step - accuracy: 0.9682 - loss: 0.0859 - val_accuracy: 0.4451 - val_loss: 9.1791\n",
      "Epoch 79/100\n",
      "\u001b[1m583/583\u001b[0m \u001b[32m━━━━━━━━━━━━━━━━━━━━\u001b[0m\u001b[37m\u001b[0m \u001b[1m1s\u001b[0m 866us/step - accuracy: 0.9649 - loss: 0.0933 - val_accuracy: 0.4345 - val_loss: 10.2522\n",
      "Epoch 80/100\n",
      "\u001b[1m583/583\u001b[0m \u001b[32m━━━━━━━━━━━━━━━━━━━━\u001b[0m\u001b[37m\u001b[0m \u001b[1m1s\u001b[0m 870us/step - accuracy: 0.9638 - loss: 0.0945 - val_accuracy: 0.4606 - val_loss: 9.1060\n",
      "Epoch 81/100\n",
      "\u001b[1m583/583\u001b[0m \u001b[32m━━━━━━━━━━━━━━━━━━━━\u001b[0m\u001b[37m\u001b[0m \u001b[1m0s\u001b[0m 840us/step - accuracy: 0.9648 - loss: 0.0986 - val_accuracy: 0.4725 - val_loss: 10.0019\n",
      "Epoch 82/100\n",
      "\u001b[1m583/583\u001b[0m \u001b[32m━━━━━━━━━━━━━━━━━━━━\u001b[0m\u001b[37m\u001b[0m \u001b[1m1s\u001b[0m 865us/step - accuracy: 0.9658 - loss: 0.0899 - val_accuracy: 0.4604 - val_loss: 10.0088\n",
      "Epoch 83/100\n",
      "\u001b[1m583/583\u001b[0m \u001b[32m━━━━━━━━━━━━━━━━━━━━\u001b[0m\u001b[37m\u001b[0m \u001b[1m0s\u001b[0m 834us/step - accuracy: 0.9651 - loss: 0.0897 - val_accuracy: 0.4418 - val_loss: 10.4304\n",
      "Epoch 84/100\n",
      "\u001b[1m583/583\u001b[0m \u001b[32m━━━━━━━━━━━━━━━━━━━━\u001b[0m\u001b[37m\u001b[0m \u001b[1m0s\u001b[0m 806us/step - accuracy: 0.9672 - loss: 0.0874 - val_accuracy: 0.4391 - val_loss: 9.9153\n",
      "Epoch 85/100\n",
      "\u001b[1m583/583\u001b[0m \u001b[32m━━━━━━━━━━━━━━━━━━━━\u001b[0m\u001b[37m\u001b[0m \u001b[1m1s\u001b[0m 861us/step - accuracy: 0.9664 - loss: 0.0836 - val_accuracy: 0.4132 - val_loss: 11.0424\n",
      "Epoch 86/100\n",
      "\u001b[1m583/583\u001b[0m \u001b[32m━━━━━━━━━━━━━━━━━━━━\u001b[0m\u001b[37m\u001b[0m \u001b[1m0s\u001b[0m 798us/step - accuracy: 0.9701 - loss: 0.0772 - val_accuracy: 0.4277 - val_loss: 11.6187\n",
      "Epoch 87/100\n",
      "\u001b[1m583/583\u001b[0m \u001b[32m━━━━━━━━━━━━━━━━━━━━\u001b[0m\u001b[37m\u001b[0m \u001b[1m1s\u001b[0m 852us/step - accuracy: 0.9660 - loss: 0.0903 - val_accuracy: 0.4238 - val_loss: 11.2925\n",
      "Epoch 88/100\n",
      "\u001b[1m583/583\u001b[0m \u001b[32m━━━━━━━━━━━━━━━━━━━━\u001b[0m\u001b[37m\u001b[0m \u001b[1m0s\u001b[0m 818us/step - accuracy: 0.9643 - loss: 0.0917 - val_accuracy: 0.4136 - val_loss: 10.2148\n",
      "Epoch 89/100\n",
      "\u001b[1m583/583\u001b[0m \u001b[32m━━━━━━━━━━━━━━━━━━━━\u001b[0m\u001b[37m\u001b[0m \u001b[1m0s\u001b[0m 806us/step - accuracy: 0.9668 - loss: 0.0892 - val_accuracy: 0.4281 - val_loss: 9.7942\n",
      "Epoch 90/100\n",
      "\u001b[1m583/583\u001b[0m \u001b[32m━━━━━━━━━━━━━━━━━━━━\u001b[0m\u001b[37m\u001b[0m \u001b[1m0s\u001b[0m 802us/step - accuracy: 0.9687 - loss: 0.0802 - val_accuracy: 0.4354 - val_loss: 9.6988\n",
      "Epoch 91/100\n",
      "\u001b[1m583/583\u001b[0m \u001b[32m━━━━━━━━━━━━━━━━━━━━\u001b[0m\u001b[37m\u001b[0m \u001b[1m1s\u001b[0m 876us/step - accuracy: 0.9733 - loss: 0.0698 - val_accuracy: 0.4319 - val_loss: 11.0531\n",
      "Epoch 92/100\n",
      "\u001b[1m583/583\u001b[0m \u001b[32m━━━━━━━━━━━━━━━━━━━━\u001b[0m\u001b[37m\u001b[0m \u001b[1m1s\u001b[0m 844us/step - accuracy: 0.9684 - loss: 0.0824 - val_accuracy: 0.4584 - val_loss: 10.3474\n",
      "Epoch 93/100\n",
      "\u001b[1m583/583\u001b[0m \u001b[32m━━━━━━━━━━━━━━━━━━━━\u001b[0m\u001b[37m\u001b[0m \u001b[1m1s\u001b[0m 859us/step - accuracy: 0.9597 - loss: 0.0986 - val_accuracy: 0.4339 - val_loss: 9.7188\n",
      "Epoch 94/100\n",
      "\u001b[1m583/583\u001b[0m \u001b[32m━━━━━━━━━━━━━━━━━━━━\u001b[0m\u001b[37m\u001b[0m \u001b[1m1s\u001b[0m 844us/step - accuracy: 0.9632 - loss: 0.0946 - val_accuracy: 0.4571 - val_loss: 9.6127\n",
      "Epoch 95/100\n",
      "\u001b[1m583/583\u001b[0m \u001b[32m━━━━━━━━━━━━━━━━━━━━\u001b[0m\u001b[37m\u001b[0m \u001b[1m1s\u001b[0m 848us/step - accuracy: 0.9703 - loss: 0.0767 - val_accuracy: 0.4265 - val_loss: 10.3054\n",
      "Epoch 96/100\n",
      "\u001b[1m583/583\u001b[0m \u001b[32m━━━━━━━━━━━━━━━━━━━━\u001b[0m\u001b[37m\u001b[0m \u001b[1m1s\u001b[0m 1ms/step - accuracy: 0.9694 - loss: 0.0867 - val_accuracy: 0.4350 - val_loss: 10.4834\n",
      "Epoch 97/100\n",
      "\u001b[1m583/583\u001b[0m \u001b[32m━━━━━━━━━━━━━━━━━━━━\u001b[0m\u001b[37m\u001b[0m \u001b[1m1s\u001b[0m 868us/step - accuracy: 0.9671 - loss: 0.0869 - val_accuracy: 0.4227 - val_loss: 10.5973\n",
      "Epoch 98/100\n",
      "\u001b[1m583/583\u001b[0m \u001b[32m━━━━━━━━━━━━━━━━━━━━\u001b[0m\u001b[37m\u001b[0m \u001b[1m0s\u001b[0m 831us/step - accuracy: 0.9660 - loss: 0.0900 - val_accuracy: 0.4093 - val_loss: 11.9640\n",
      "Epoch 99/100\n",
      "\u001b[1m583/583\u001b[0m \u001b[32m━━━━━━━━━━━━━━━━━━━━\u001b[0m\u001b[37m\u001b[0m \u001b[1m1s\u001b[0m 885us/step - accuracy: 0.9648 - loss: 0.0952 - val_accuracy: 0.4097 - val_loss: 10.6972\n",
      "Epoch 100/100\n",
      "\u001b[1m583/583\u001b[0m \u001b[32m━━━━━━━━━━━━━━━━━━━━\u001b[0m\u001b[37m\u001b[0m \u001b[1m0s\u001b[0m 792us/step - accuracy: 0.9731 - loss: 0.0730 - val_accuracy: 0.3969 - val_loss: 10.5691\n",
      "Test Accuracy: 0.40\n",
      "\u001b[1m151/151\u001b[0m \u001b[32m━━━━━━━━━━━━━━━━━━━━\u001b[0m\u001b[37m\u001b[0m \u001b[1m0s\u001b[0m 543us/step\n"
     ]
    },
    {
     "data": {
      "image/png": "[encoded data removed]",
      "text/plain": [
       "<Figure size 600x400 with 2 Axes>"
      ]
     },
     "metadata": {},
     "output_type": "display_data"
    },
    {
     "name": "stdout",
     "output_type": "stream",
     "text": [
      "              precision    recall  f1-score   support\n",
      "\n",
      "       Small       0.46      0.09      0.16      1333\n",
      "      Middle       0.31      0.32      0.31      1411\n",
      "        High       0.43      0.64      0.52      2084\n",
      "\n",
      "    accuracy                           0.40      4828\n",
      "   macro avg       0.40      0.35      0.33      4828\n",
      "weighted avg       0.40      0.40      0.36      4828\n",
      "\n"
     ]
    }
   ],
   "source": [
    "import os\n",
    "import numpy as np\n",
    "import tensorflow as tf\n",
    "from tensorflow import keras\n",
    "from tensorflow.keras import layers\n",
    "from sklearn.preprocessing import StandardScaler\n",
    "from sklearn.utils.class_weight import compute_class_weight\n",
    "from tensorflow.keras.utils import to_categorical\n",
    "import collections\n",
    "import matplotlib.pyplot as plt\n",
    "import seaborn as sns\n",
    "from sklearn.metrics import classification_report, confusion_matrix\n",
    "\n",
    "# ✅ 1. Load Data\n",
    "training_dataset_dir = \"/Users/MA_Arash/MA_git/EIT_Thigh_Force_Estimation/Data/Training_set\"\n",
    "testing_dataset_dir = \"/Users/MA_Arash/MA_git/EIT_Thigh_Force_Estimation/Data/Test_set\"\n",
    "\n",
    "npz_files_train = [f for f in os.listdir(training_dataset_dir) if f.endswith('.npz')]\n",
    "npz_files_test = [f for f in os.listdir(testing_dataset_dir) if f.endswith('.npz')]\n",
    "\n",
    "X_train, y_train = [], []\n",
    "X_test, y_test = [], []\n",
    "\n",
    "# ✅ 2. Read Training Data\n",
    "for file in npz_files_train:\n",
    "    file_path = os.path.join(training_dataset_dir, file)\n",
    "    data = np.load(file_path)\n",
    "\n",
    "    eit_data_flat = data['eit'].reshape(-1)  # Flatten 16x16 frames\n",
    "    target_force = data['target_force']\n",
    "\n",
    "    X_train.append(eit_data_flat)\n",
    "    y_train.append(target_force)\n",
    "\n",
    "# ✅ 3. Read Testing Data\n",
    "for file in npz_files_test:\n",
    "    file_path = os.path.join(testing_dataset_dir, file)\n",
    "    data = np.load(file_path)\n",
    "\n",
    "    eit_data_flat = data['eit'].reshape(-1)\n",
    "    target_force = data['target_force']\n",
    "\n",
    "    X_test.append(eit_data_flat)\n",
    "    y_test.append(target_force)\n",
    "\n",
    "# Convert lists to numpy arrays\n",
    "X_train, y_train = np.array(X_train), np.array(y_train)\n",
    "X_test, y_test = np.array(X_test), np.array(y_test)\n",
    "\n",
    "# ✅ 4. Standardize the Data\n",
    "scaler = StandardScaler()\n",
    "X_train = scaler.fit_transform(X_train)\n",
    "X_test = scaler.transform(X_test)\n",
    "\n",
    "# ✅ 5. Convert Labels to Categorical\n",
    "# Define function to categorize force values\n",
    "def categorize_force(value):\n",
    "    if 20 <= value < 40:\n",
    "        return 0  # Small\n",
    "    elif 40 <= value < 60:\n",
    "        return 1  # Middle\n",
    "    elif 60 <= value <= 80:\n",
    "        return 2  # High\n",
    "    else:\n",
    "        raise ValueError(f\"Unexpected force value: {value}\")\n",
    "\n",
    "# Apply categorization to y_train and y_test\n",
    "y_train = np.array([categorize_force(val) for val in y_train])\n",
    "y_test = np.array([categorize_force(val) for val in y_test])\n",
    "\n",
    "num_classes = 3  # Assuming 3 categories: Small, Middle, High\n",
    "y_train = to_categorical(y_train, num_classes)\n",
    "y_test = to_categorical(y_test, num_classes)\n",
    "\n",
    "# ✅ 6. Compute Class Weights (to handle imbalance)\n",
    "y_train_labels = np.argmax(y_train, axis=1)  # Convert one-hot to labels\n",
    "class_weights = compute_class_weight(\"balanced\", classes=np.unique(y_train_labels), y=y_train_labels)\n",
    "class_weight_dict = {i: class_weights[i] for i in range(num_classes)}\n",
    "\n",
    "print(\"Class Weights:\", class_weight_dict)\n",
    "\n",
    "# ✅ 7. Build the Neural Network Model\n",
    "def create_model():\n",
    "    model = keras.Sequential([\n",
    "        layers.Dense(128, activation=\"relu\", input_shape=(X_train.shape[1],)),\n",
    "        layers.BatchNormalization(),\n",
    "        layers.Dropout(0.3),\n",
    "\n",
    "        layers.Dense(64, activation=\"relu\"),\n",
    "        layers.BatchNormalization(),\n",
    "        layers.Dropout(0.3),\n",
    "\n",
    "        layers.Dense(32, activation=\"relu\"),\n",
    "        layers.BatchNormalization(),\n",
    "\n",
    "        layers.Dense(num_classes, activation=\"softmax\")  # Multi-class classification\n",
    "    ])\n",
    "\n",
    "    model.compile(optimizer=\"adam\", loss=\"categorical_crossentropy\", metrics=[\"accuracy\"])\n",
    "    return model\n",
    "\n",
    "# ✅ 8. Train the Model\n",
    "model = create_model()\n",
    "history = model.fit(\n",
    "    X_train, y_train,\n",
    "    epochs=100,\n",
    "    batch_size=32,\n",
    "    validation_data=(X_test, y_test),\n",
    "    class_weight=class_weight_dict,  # Handle class imbalance\n",
    "    verbose=1\n",
    ")\n",
    "\n",
    "# ✅ 9. Evaluate Model Performance\n",
    "test_loss, test_acc = model.evaluate(X_test, y_test, verbose=0)\n",
    "print(f\"Test Accuracy: {test_acc:.2f}\")\n",
    "\n",
    "# ✅ 10. Make Predictions\n",
    "y_pred = model.predict(X_test)\n",
    "y_pred_classes = np.argmax(y_pred, axis=1)\n",
    "y_true_classes = np.argmax(y_test, axis=1)\n",
    "\n",
    "# ✅ 11. Confusion Matrix & Classification Report\n",
    "cm = confusion_matrix(y_true_classes, y_pred_classes)\n",
    "\n",
    "plt.figure(figsize=(6,4))\n",
    "sns.heatmap(cm, annot=True, fmt=\"d\", cmap=\"Blues\", xticklabels=[\"Small\", \"Middle\", \"High\"], yticklabels=[\"Small\", \"Middle\", \"High\"])\n",
    "plt.xlabel(\"Predicted\")\n",
    "plt.ylabel(\"Actual\")\n",
    "plt.title(\"Confusion Matrix - Neural Network\")\n",
    "plt.show()\n",
    "\n",
    "print(classification_report(y_true_classes, y_pred_classes, target_names=[\"Small\", \"Middle\", \"High\"]))\n"
   ]
  },
  {
   "cell_type": "code",
   "execution_count": 22,
   "metadata": {},
   "outputs": [
    {
     "name": "stdout",
     "output_type": "stream",
     "text": [
      "Original training class distribution: Counter({np.int64(2): 8053, np.int64(1): 5407, np.int64(0): 5175})\n",
      "Original testing class distribution: Counter({np.int64(2): 2084, np.int64(1): 1411, np.int64(0): 1333})\n",
      "Class weights: {0: np.float64(1.2003220611916263), 1: np.float64(1.148819431601011), 2: np.float64(0.7713481518274763)}\n"
     ]
    },
    {
     "name": "stderr",
     "output_type": "stream",
     "text": [
      "/Users/arash/anaconda3/envs/MA_Arash/lib/python3.10/site-packages/keras/src/layers/core/dense.py:87: UserWarning: Do not pass an `input_shape`/`input_dim` argument to a layer. When using Sequential models, prefer using an `Input(shape)` object as the first layer in the model instead.\n",
      "  super().__init__(activity_regularizer=activity_regularizer, **kwargs)\n"
     ]
    },
    {
     "data": {
      "text/html": [
       "<pre style=\"white-space:pre;overflow-x:auto;line-height:normal;font-family:Menlo,'DejaVu Sans Mono',consolas,'Courier New',monospace\"><span style=\"font-weight: bold\">Model: \"sequential_2\"</span>\n",
       "</pre>\n"
      ],
      "text/plain": [
       "\u001b[1mModel: \"sequential_2\"\u001b[0m\n"
      ]
     },
     "metadata": {},
     "output_type": "display_data"
    },
    {
     "data": {
      "text/html": [
       "<pre style=\"white-space:pre;overflow-x:auto;line-height:normal;font-family:Menlo,'DejaVu Sans Mono',consolas,'Courier New',monospace\">┏━━━━━━━━━━━━━━━━━━━━━━━━━━━━━━━━━┳━━━━━━━━━━━━━━━━━━━━━━━━┳━━━━━━━━━━━━━━━┓\n",
       "┃<span style=\"font-weight: bold\"> Layer (type)                    </span>┃<span style=\"font-weight: bold\"> Output Shape           </span>┃<span style=\"font-weight: bold\">       Param # </span>┃\n",
       "┡━━━━━━━━━━━━━━━━━━━━━━━━━━━━━━━━━╇━━━━━━━━━━━━━━━━━━━━━━━━╇━━━━━━━━━━━━━━━┩\n",
       "│ dense_8 (<span style=\"color: #0087ff; text-decoration-color: #0087ff\">Dense</span>)                 │ (<span style=\"color: #00d7ff; text-decoration-color: #00d7ff\">None</span>, <span style=\"color: #00af00; text-decoration-color: #00af00\">256</span>)            │        <span style=\"color: #00af00; text-decoration-color: #00af00\">65,792</span> │\n",
       "├─────────────────────────────────┼────────────────────────┼───────────────┤\n",
       "│ batch_normalization_6           │ (<span style=\"color: #00d7ff; text-decoration-color: #00d7ff\">None</span>, <span style=\"color: #00af00; text-decoration-color: #00af00\">256</span>)            │         <span style=\"color: #00af00; text-decoration-color: #00af00\">1,024</span> │\n",
       "│ (<span style=\"color: #0087ff; text-decoration-color: #0087ff\">BatchNormalization</span>)            │                        │               │\n",
       "├─────────────────────────────────┼────────────────────────┼───────────────┤\n",
       "│ dropout_4 (<span style=\"color: #0087ff; text-decoration-color: #0087ff\">Dropout</span>)             │ (<span style=\"color: #00d7ff; text-decoration-color: #00d7ff\">None</span>, <span style=\"color: #00af00; text-decoration-color: #00af00\">256</span>)            │             <span style=\"color: #00af00; text-decoration-color: #00af00\">0</span> │\n",
       "├─────────────────────────────────┼────────────────────────┼───────────────┤\n",
       "│ dense_9 (<span style=\"color: #0087ff; text-decoration-color: #0087ff\">Dense</span>)                 │ (<span style=\"color: #00d7ff; text-decoration-color: #00d7ff\">None</span>, <span style=\"color: #00af00; text-decoration-color: #00af00\">128</span>)            │        <span style=\"color: #00af00; text-decoration-color: #00af00\">32,896</span> │\n",
       "├─────────────────────────────────┼────────────────────────┼───────────────┤\n",
       "│ batch_normalization_7           │ (<span style=\"color: #00d7ff; text-decoration-color: #00d7ff\">None</span>, <span style=\"color: #00af00; text-decoration-color: #00af00\">128</span>)            │           <span style=\"color: #00af00; text-decoration-color: #00af00\">512</span> │\n",
       "│ (<span style=\"color: #0087ff; text-decoration-color: #0087ff\">BatchNormalization</span>)            │                        │               │\n",
       "├─────────────────────────────────┼────────────────────────┼───────────────┤\n",
       "│ dropout_5 (<span style=\"color: #0087ff; text-decoration-color: #0087ff\">Dropout</span>)             │ (<span style=\"color: #00d7ff; text-decoration-color: #00d7ff\">None</span>, <span style=\"color: #00af00; text-decoration-color: #00af00\">128</span>)            │             <span style=\"color: #00af00; text-decoration-color: #00af00\">0</span> │\n",
       "├─────────────────────────────────┼────────────────────────┼───────────────┤\n",
       "│ dense_10 (<span style=\"color: #0087ff; text-decoration-color: #0087ff\">Dense</span>)                │ (<span style=\"color: #00d7ff; text-decoration-color: #00d7ff\">None</span>, <span style=\"color: #00af00; text-decoration-color: #00af00\">64</span>)             │         <span style=\"color: #00af00; text-decoration-color: #00af00\">8,256</span> │\n",
       "├─────────────────────────────────┼────────────────────────┼───────────────┤\n",
       "│ batch_normalization_8           │ (<span style=\"color: #00d7ff; text-decoration-color: #00d7ff\">None</span>, <span style=\"color: #00af00; text-decoration-color: #00af00\">64</span>)             │           <span style=\"color: #00af00; text-decoration-color: #00af00\">256</span> │\n",
       "│ (<span style=\"color: #0087ff; text-decoration-color: #0087ff\">BatchNormalization</span>)            │                        │               │\n",
       "├─────────────────────────────────┼────────────────────────┼───────────────┤\n",
       "│ dropout_6 (<span style=\"color: #0087ff; text-decoration-color: #0087ff\">Dropout</span>)             │ (<span style=\"color: #00d7ff; text-decoration-color: #00d7ff\">None</span>, <span style=\"color: #00af00; text-decoration-color: #00af00\">64</span>)             │             <span style=\"color: #00af00; text-decoration-color: #00af00\">0</span> │\n",
       "├─────────────────────────────────┼────────────────────────┼───────────────┤\n",
       "│ dense_11 (<span style=\"color: #0087ff; text-decoration-color: #0087ff\">Dense</span>)                │ (<span style=\"color: #00d7ff; text-decoration-color: #00d7ff\">None</span>, <span style=\"color: #00af00; text-decoration-color: #00af00\">3</span>)              │           <span style=\"color: #00af00; text-decoration-color: #00af00\">195</span> │\n",
       "└─────────────────────────────────┴────────────────────────┴───────────────┘\n",
       "</pre>\n"
      ],
      "text/plain": [
       "┏━━━━━━━━━━━━━━━━━━━━━━━━━━━━━━━━━┳━━━━━━━━━━━━━━━━━━━━━━━━┳━━━━━━━━━━━━━━━┓\n",
       "┃\u001b[1m \u001b[0m\u001b[1mLayer (type)                   \u001b[0m\u001b[1m \u001b[0m┃\u001b[1m \u001b[0m\u001b[1mOutput Shape          \u001b[0m\u001b[1m \u001b[0m┃\u001b[1m \u001b[0m\u001b[1m      Param #\u001b[0m\u001b[1m \u001b[0m┃\n",
       "┡━━━━━━━━━━━━━━━━━━━━━━━━━━━━━━━━━╇━━━━━━━━━━━━━━━━━━━━━━━━╇━━━━━━━━━━━━━━━┩\n",
       "│ dense_8 (\u001b[38;5;33mDense\u001b[0m)                 │ (\u001b[38;5;45mNone\u001b[0m, \u001b[38;5;34m256\u001b[0m)            │        \u001b[38;5;34m65,792\u001b[0m │\n",
       "├─────────────────────────────────┼────────────────────────┼───────────────┤\n",
       "│ batch_normalization_6           │ (\u001b[38;5;45mNone\u001b[0m, \u001b[38;5;34m256\u001b[0m)            │         \u001b[38;5;34m1,024\u001b[0m │\n",
       "│ (\u001b[38;5;33mBatchNormalization\u001b[0m)            │                        │               │\n",
       "├─────────────────────────────────┼────────────────────────┼───────────────┤\n",
       "│ dropout_4 (\u001b[38;5;33mDropout\u001b[0m)             │ (\u001b[38;5;45mNone\u001b[0m, \u001b[38;5;34m256\u001b[0m)            │             \u001b[38;5;34m0\u001b[0m │\n",
       "├─────────────────────────────────┼────────────────────────┼───────────────┤\n",
       "│ dense_9 (\u001b[38;5;33mDense\u001b[0m)                 │ (\u001b[38;5;45mNone\u001b[0m, \u001b[38;5;34m128\u001b[0m)            │        \u001b[38;5;34m32,896\u001b[0m │\n",
       "├─────────────────────────────────┼────────────────────────┼───────────────┤\n",
       "│ batch_normalization_7           │ (\u001b[38;5;45mNone\u001b[0m, \u001b[38;5;34m128\u001b[0m)            │           \u001b[38;5;34m512\u001b[0m │\n",
       "│ (\u001b[38;5;33mBatchNormalization\u001b[0m)            │                        │               │\n",
       "├─────────────────────────────────┼────────────────────────┼───────────────┤\n",
       "│ dropout_5 (\u001b[38;5;33mDropout\u001b[0m)             │ (\u001b[38;5;45mNone\u001b[0m, \u001b[38;5;34m128\u001b[0m)            │             \u001b[38;5;34m0\u001b[0m │\n",
       "├─────────────────────────────────┼────────────────────────┼───────────────┤\n",
       "│ dense_10 (\u001b[38;5;33mDense\u001b[0m)                │ (\u001b[38;5;45mNone\u001b[0m, \u001b[38;5;34m64\u001b[0m)             │         \u001b[38;5;34m8,256\u001b[0m │\n",
       "├─────────────────────────────────┼────────────────────────┼───────────────┤\n",
       "│ batch_normalization_8           │ (\u001b[38;5;45mNone\u001b[0m, \u001b[38;5;34m64\u001b[0m)             │           \u001b[38;5;34m256\u001b[0m │\n",
       "│ (\u001b[38;5;33mBatchNormalization\u001b[0m)            │                        │               │\n",
       "├─────────────────────────────────┼────────────────────────┼───────────────┤\n",
       "│ dropout_6 (\u001b[38;5;33mDropout\u001b[0m)             │ (\u001b[38;5;45mNone\u001b[0m, \u001b[38;5;34m64\u001b[0m)             │             \u001b[38;5;34m0\u001b[0m │\n",
       "├─────────────────────────────────┼────────────────────────┼───────────────┤\n",
       "│ dense_11 (\u001b[38;5;33mDense\u001b[0m)                │ (\u001b[38;5;45mNone\u001b[0m, \u001b[38;5;34m3\u001b[0m)              │           \u001b[38;5;34m195\u001b[0m │\n",
       "└─────────────────────────────────┴────────────────────────┴───────────────┘\n"
      ]
     },
     "metadata": {},
     "output_type": "display_data"
    },
    {
     "data": {
      "text/html": [
       "<pre style=\"white-space:pre;overflow-x:auto;line-height:normal;font-family:Menlo,'DejaVu Sans Mono',consolas,'Courier New',monospace\"><span style=\"font-weight: bold\"> Total params: </span><span style=\"color: #00af00; text-decoration-color: #00af00\">108,931</span> (425.51 KB)\n",
       "</pre>\n"
      ],
      "text/plain": [
       "\u001b[1m Total params: \u001b[0m\u001b[38;5;34m108,931\u001b[0m (425.51 KB)\n"
      ]
     },
     "metadata": {},
     "output_type": "display_data"
    },
    {
     "data": {
      "text/html": [
       "<pre style=\"white-space:pre;overflow-x:auto;line-height:normal;font-family:Menlo,'DejaVu Sans Mono',consolas,'Courier New',monospace\"><span style=\"font-weight: bold\"> Trainable params: </span><span style=\"color: #00af00; text-decoration-color: #00af00\">108,035</span> (422.01 KB)\n",
       "</pre>\n"
      ],
      "text/plain": [
       "\u001b[1m Trainable params: \u001b[0m\u001b[38;5;34m108,035\u001b[0m (422.01 KB)\n"
      ]
     },
     "metadata": {},
     "output_type": "display_data"
    },
    {
     "data": {
      "text/html": [
       "<pre style=\"white-space:pre;overflow-x:auto;line-height:normal;font-family:Menlo,'DejaVu Sans Mono',consolas,'Courier New',monospace\"><span style=\"font-weight: bold\"> Non-trainable params: </span><span style=\"color: #00af00; text-decoration-color: #00af00\">896</span> (3.50 KB)\n",
       "</pre>\n"
      ],
      "text/plain": [
       "\u001b[1m Non-trainable params: \u001b[0m\u001b[38;5;34m896\u001b[0m (3.50 KB)\n"
      ]
     },
     "metadata": {},
     "output_type": "display_data"
    },
    {
     "name": "stdout",
     "output_type": "stream",
     "text": [
      "Epoch 1/100\n",
      "\u001b[1m583/583\u001b[0m \u001b[32m━━━━━━━━━━━━━━━━━━━━\u001b[0m\u001b[37m\u001b[0m \u001b[1m2s\u001b[0m 1ms/step - accuracy: 0.4902 - loss: 1.1574 - val_accuracy: 0.5222 - val_loss: 1.5385\n",
      "Epoch 2/100\n",
      "\u001b[1m583/583\u001b[0m \u001b[32m━━━━━━━━━━━━━━━━━━━━\u001b[0m\u001b[37m\u001b[0m \u001b[1m1s\u001b[0m 1ms/step - accuracy: 0.7050 - loss: 0.6380 - val_accuracy: 0.4714 - val_loss: 2.3562\n",
      "Epoch 3/100\n",
      "\u001b[1m583/583\u001b[0m \u001b[32m━━━━━━━━━━━━━━━━━━━━\u001b[0m\u001b[37m\u001b[0m \u001b[1m1s\u001b[0m 1ms/step - accuracy: 0.7638 - loss: 0.5119 - val_accuracy: 0.4517 - val_loss: 2.7699\n",
      "Epoch 4/100\n",
      "\u001b[1m583/583\u001b[0m \u001b[32m━━━━━━━━━━━━━━━━━━━━\u001b[0m\u001b[37m\u001b[0m \u001b[1m1s\u001b[0m 1ms/step - accuracy: 0.7840 - loss: 0.4650 - val_accuracy: 0.4196 - val_loss: 2.8739\n",
      "Epoch 5/100\n",
      "\u001b[1m583/583\u001b[0m \u001b[32m━━━━━━━━━━━━━━━━━━━━\u001b[0m\u001b[37m\u001b[0m \u001b[1m1s\u001b[0m 1ms/step - accuracy: 0.8141 - loss: 0.4154 - val_accuracy: 0.4391 - val_loss: 3.0555\n",
      "Epoch 6/100\n",
      "\u001b[1m583/583\u001b[0m \u001b[32m━━━━━━━━━━━━━━━━━━━━\u001b[0m\u001b[37m\u001b[0m \u001b[1m1s\u001b[0m 1ms/step - accuracy: 0.8317 - loss: 0.3745 - val_accuracy: 0.4360 - val_loss: 3.3251\n",
      "Epoch 7/100\n",
      "\u001b[1m583/583\u001b[0m \u001b[32m━━━━━━━━━━━━━━━━━━━━\u001b[0m\u001b[37m\u001b[0m \u001b[1m1s\u001b[0m 1ms/step - accuracy: 0.8449 - loss: 0.3475 - val_accuracy: 0.4337 - val_loss: 3.6478\n",
      "Epoch 8/100\n",
      "\u001b[1m583/583\u001b[0m \u001b[32m━━━━━━━━━━━━━━━━━━━━\u001b[0m\u001b[37m\u001b[0m \u001b[1m1s\u001b[0m 1ms/step - accuracy: 0.8527 - loss: 0.3406 - val_accuracy: 0.4304 - val_loss: 4.6624\n",
      "Epoch 9/100\n",
      "\u001b[1m583/583\u001b[0m \u001b[32m━━━━━━━━━━━━━━━━━━━━\u001b[0m\u001b[37m\u001b[0m \u001b[1m1s\u001b[0m 1ms/step - accuracy: 0.8645 - loss: 0.3060 - val_accuracy: 0.4472 - val_loss: 5.0347\n",
      "Epoch 10/100\n",
      "\u001b[1m583/583\u001b[0m \u001b[32m━━━━━━━━━━━━━━━━━━━━\u001b[0m\u001b[37m\u001b[0m \u001b[1m1s\u001b[0m 1ms/step - accuracy: 0.8673 - loss: 0.3017 - val_accuracy: 0.4495 - val_loss: 4.9072\n",
      "Epoch 11/100\n",
      "\u001b[1m583/583\u001b[0m \u001b[32m━━━━━━━━━━━━━━━━━━━━\u001b[0m\u001b[37m\u001b[0m \u001b[1m1s\u001b[0m 1ms/step - accuracy: 0.8854 - loss: 0.2710 - val_accuracy: 0.4422 - val_loss: 5.1953\n",
      "Test Accuracy: 0.52\n",
      "\u001b[1m151/151\u001b[0m \u001b[32m━━━━━━━━━━━━━━━━━━━━\u001b[0m\u001b[37m\u001b[0m \u001b[1m0s\u001b[0m 634us/step\n"
     ]
    },
    {
     "data": {
      "image/png": "[encoded data removed]",
      "text/plain": [
       "<Figure size 600x400 with 2 Axes>"
      ]
     },
     "metadata": {},
     "output_type": "display_data"
    },
    {
     "name": "stdout",
     "output_type": "stream",
     "text": [
      "              precision    recall  f1-score   support\n",
      "\n",
      "       Small       0.42      0.85      0.56      1333\n",
      "      Middle       0.52      0.30      0.38      1411\n",
      "        High       0.75      0.46      0.57      2084\n",
      "\n",
      "    accuracy                           0.52      4828\n",
      "   macro avg       0.56      0.54      0.50      4828\n",
      "weighted avg       0.59      0.52      0.51      4828\n",
      "\n"
     ]
    }
   ],
   "source": [
    "import os\n",
    "import numpy as np\n",
    "import tensorflow as tf\n",
    "from tensorflow import keras\n",
    "from tensorflow.keras import layers\n",
    "from tensorflow.keras.optimizers import Adam\n",
    "from tensorflow.keras.callbacks import EarlyStopping\n",
    "from tensorflow.keras.utils import to_categorical\n",
    "from sklearn.preprocessing import StandardScaler  # Alternatively, you can try MinMaxScaler\n",
    "from sklearn.metrics import confusion_matrix, classification_report\n",
    "from sklearn.utils.class_weight import compute_class_weight\n",
    "import matplotlib.pyplot as plt\n",
    "import seaborn as sns\n",
    "from collections import Counter\n",
    "\n",
    "# Optional: For oversampling minority classes (uncomment if needed)\n",
    "#from imblearn.over_sampling import SMOTE\n",
    "\n",
    "# ------------------------------\n",
    "# 1. Define Data Directories\n",
    "# ------------------------------\n",
    "training_dataset_dir = \"/Users/MA_Arash/MA_git/EIT_Thigh_Force_Estimation/Data/Training_set\"\n",
    "testing_dataset_dir = \"/Users/MA_Arash/MA_git/EIT_Thigh_Force_Estimation/Data/Test_set\"\n",
    "\n",
    "# ------------------------------\n",
    "# 2. Categorize Force Values\n",
    "# ------------------------------\n",
    "def categorize_force(value):\n",
    "    \"\"\"\n",
    "    Categorizes force into three classes:\n",
    "    0: Small (20 <= force < 40)\n",
    "    1: Middle (40 <= force < 60)\n",
    "    2: High (60 <= force <= 80)\n",
    "    \"\"\"\n",
    "    if 20 <= value < 40:\n",
    "        return 0  # Small\n",
    "    elif 40 <= value < 60:\n",
    "        return 1  # Middle\n",
    "    elif 60 <= value <= 80:\n",
    "        return 2  # High\n",
    "    else:\n",
    "        raise ValueError(f\"Unexpected force value: {value}\")\n",
    "\n",
    "# ------------------------------\n",
    "# 3. Load Data from .npz Files\n",
    "# ------------------------------\n",
    "# Load training data\n",
    "npz_files_train = [f for f in os.listdir(training_dataset_dir) if f.endswith('.npz')]\n",
    "X_train_list, y_train_list = [], []\n",
    "\n",
    "for file in npz_files_train:\n",
    "    file_path = os.path.join(training_dataset_dir, file)\n",
    "    data = np.load(file_path)\n",
    "    # Flatten the 16x16 EIT data into a 1D vector\n",
    "    eit_data_flat = data['eit'].reshape(-1)\n",
    "    target_force = data['target_force']\n",
    "    \n",
    "    X_train_list.append(eit_data_flat)\n",
    "    y_train_list.append(categorize_force(target_force))\n",
    "\n",
    "# Load testing data\n",
    "npz_files_test = [f for f in os.listdir(testing_dataset_dir) if f.endswith('.npz')]\n",
    "X_test_list, y_test_list = [], []\n",
    "\n",
    "for file in npz_files_test:\n",
    "    file_path = os.path.join(testing_dataset_dir, file)\n",
    "    data = np.load(file_path)\n",
    "    eit_data_flat = data['eit'].reshape(-1)\n",
    "    target_force = data['target_force']\n",
    "    \n",
    "    X_test_list.append(eit_data_flat)\n",
    "    y_test_list.append(categorize_force(target_force))\n",
    "\n",
    "# Convert lists to numpy arrays\n",
    "X_train = np.array(X_train_list)\n",
    "y_train = np.array(y_train_list)\n",
    "X_test = np.array(X_test_list)\n",
    "y_test = np.array(y_test_list)\n",
    "\n",
    "print(\"Original training class distribution:\", Counter(y_train))\n",
    "print(\"Original testing class distribution:\", Counter(y_test))\n",
    "\n",
    "# ------------------------------\n",
    "# 4. Scale the Features\n",
    "# ------------------------------\n",
    "scaler = StandardScaler()\n",
    "X_train = scaler.fit_transform(X_train)\n",
    "X_test = scaler.transform(X_test)\n",
    "\n",
    "# ------------------------------\n",
    "# 5. Optional: Balance Training Data using SMOTE\n",
    "# ------------------------------\n",
    "# SMOTE works on integer labels, so apply it before one-hot encoding.\n",
    "#smote = SMOTE(random_state=42)\n",
    "#X_train, y_train = smote.fit_resample(X_train, y_train)\n",
    "#print(\"After SMOTE, training class distribution:\", Counter(y_train))\n",
    "\n",
    "# ------------------------------\n",
    "# 6. Convert Labels to Categorical (One-Hot Encoding)\n",
    "# ------------------------------\n",
    "num_classes = 3\n",
    "y_train_cat = to_categorical(y_train, num_classes)\n",
    "y_test_cat = to_categorical(y_test, num_classes)\n",
    "\n",
    "# ------------------------------\n",
    "# 7. Compute Class Weights\n",
    "# ------------------------------\n",
    "class_weights = compute_class_weight('balanced', classes=np.unique(y_train), y=y_train)\n",
    "class_weight_dict = {i: class_weights[i] for i in range(num_classes)}\n",
    "print(\"Class weights:\", class_weight_dict)\n",
    "\n",
    "# ------------------------------\n",
    "# 8. Build a More Complex Neural Network Model\n",
    "# ------------------------------\n",
    "def create_model():\n",
    "    model = keras.Sequential([\n",
    "        layers.Dense(256, activation='relu', input_shape=(X_train.shape[1],)),\n",
    "        layers.BatchNormalization(),\n",
    "        layers.Dropout(0.4),\n",
    "        \n",
    "        layers.Dense(128, activation='relu'),\n",
    "        layers.BatchNormalization(),\n",
    "        layers.Dropout(0.4),\n",
    "        \n",
    "        layers.Dense(64, activation='relu'),\n",
    "        layers.BatchNormalization(),\n",
    "        layers.Dropout(0.3),\n",
    "        \n",
    "        layers.Dense(num_classes, activation='softmax')\n",
    "    ])\n",
    "    model.compile(optimizer=Adam(learning_rate=0.001),\n",
    "                  loss='categorical_crossentropy',\n",
    "                  metrics=['accuracy'])\n",
    "    return model\n",
    "\n",
    "model = create_model()\n",
    "model.summary()\n",
    "\n",
    "# ------------------------------\n",
    "# 9. Train the Model with Early Stopping\n",
    "# ------------------------------\n",
    "early_stop = EarlyStopping(monitor='val_loss', patience=10, restore_best_weights=True)\n",
    "\n",
    "history = model.fit(\n",
    "    X_train, y_train_cat,\n",
    "    epochs=100,\n",
    "    batch_size=32,\n",
    "    validation_data=(X_test, y_test_cat),\n",
    "    callbacks=[early_stop],\n",
    "    class_weight=class_weight_dict,\n",
    "    verbose=1\n",
    ")\n",
    "\n",
    "# ------------------------------\n",
    "# 10. Evaluate the Model\n",
    "# ------------------------------\n",
    "test_loss, test_acc = model.evaluate(X_test, y_test_cat, verbose=0)\n",
    "print(f\"Test Accuracy: {test_acc:.2f}\")\n",
    "\n",
    "# ------------------------------\n",
    "# 11. Generate Predictions and Evaluate with a Confusion Matrix\n",
    "# ------------------------------\n",
    "y_pred = model.predict(X_test)\n",
    "y_pred_classes = np.argmax(y_pred, axis=1)\n",
    "y_true_classes = np.argmax(y_test_cat, axis=1)\n",
    "\n",
    "cm = confusion_matrix(y_true_classes, y_pred_classes)\n",
    "plt.figure(figsize=(6, 4))\n",
    "sns.heatmap(cm, annot=True, fmt=\"d\", cmap=\"Blues\",\n",
    "            xticklabels=[\"Small\", \"Middle\", \"High\"],\n",
    "            yticklabels=[\"Small\", \"Middle\", \"High\"])\n",
    "plt.xlabel(\"Predicted\")\n",
    "plt.ylabel(\"Actual\")\n",
    "plt.title(\"Confusion Matrix - Neural Network\")\n",
    "plt.show()\n",
    "\n",
    "print(classification_report(y_true_classes, y_pred_classes, target_names=[\"Small\", \"Middle\", \"High\"]))\n"
   ]
  },
  {
   "cell_type": "code",
   "execution_count": 25,
   "metadata": {},
   "outputs": [
    {
     "name": "stdout",
     "output_type": "stream",
     "text": [
      "Original training class distribution: Counter({np.int64(2): 8053, np.int64(1): 5407, np.int64(0): 5175})\n",
      "Original testing class distribution: Counter({np.int64(2): 2084, np.int64(1): 1411, np.int64(0): 1333})\n",
      "Class weights: {0: np.float64(1.2003220611916263), 1: np.float64(1.148819431601011), 2: np.float64(0.7713481518274763)}\n"
     ]
    },
    {
     "name": "stderr",
     "output_type": "stream",
     "text": [
      "/Users/arash/anaconda3/envs/MA_Arash/lib/python3.10/site-packages/keras/src/layers/convolutional/base_conv.py:107: UserWarning: Do not pass an `input_shape`/`input_dim` argument to a layer. When using Sequential models, prefer using an `Input(shape)` object as the first layer in the model instead.\n",
      "  super().__init__(activity_regularizer=activity_regularizer, **kwargs)\n"
     ]
    },
    {
     "data": {
      "text/html": [
       "<pre style=\"white-space:pre;overflow-x:auto;line-height:normal;font-family:Menlo,'DejaVu Sans Mono',consolas,'Courier New',monospace\"><span style=\"font-weight: bold\">Model: \"sequential_4\"</span>\n",
       "</pre>\n"
      ],
      "text/plain": [
       "\u001b[1mModel: \"sequential_4\"\u001b[0m\n"
      ]
     },
     "metadata": {},
     "output_type": "display_data"
    },
    {
     "data": {
      "text/html": [
       "<pre style=\"white-space:pre;overflow-x:auto;line-height:normal;font-family:Menlo,'DejaVu Sans Mono',consolas,'Courier New',monospace\">┏━━━━━━━━━━━━━━━━━━━━━━━━━━━━━━━━━┳━━━━━━━━━━━━━━━━━━━━━━━━┳━━━━━━━━━━━━━━━┓\n",
       "┃<span style=\"font-weight: bold\"> Layer (type)                    </span>┃<span style=\"font-weight: bold\"> Output Shape           </span>┃<span style=\"font-weight: bold\">       Param # </span>┃\n",
       "┡━━━━━━━━━━━━━━━━━━━━━━━━━━━━━━━━━╇━━━━━━━━━━━━━━━━━━━━━━━━╇━━━━━━━━━━━━━━━┩\n",
       "│ conv2d_3 (<span style=\"color: #0087ff; text-decoration-color: #0087ff\">Conv2D</span>)               │ (<span style=\"color: #00d7ff; text-decoration-color: #00d7ff\">None</span>, <span style=\"color: #00af00; text-decoration-color: #00af00\">16</span>, <span style=\"color: #00af00; text-decoration-color: #00af00\">16</span>, <span style=\"color: #00af00; text-decoration-color: #00af00\">32</span>)     │           <span style=\"color: #00af00; text-decoration-color: #00af00\">320</span> │\n",
       "├─────────────────────────────────┼────────────────────────┼───────────────┤\n",
       "│ batch_normalization_13          │ (<span style=\"color: #00d7ff; text-decoration-color: #00d7ff\">None</span>, <span style=\"color: #00af00; text-decoration-color: #00af00\">16</span>, <span style=\"color: #00af00; text-decoration-color: #00af00\">16</span>, <span style=\"color: #00af00; text-decoration-color: #00af00\">32</span>)     │           <span style=\"color: #00af00; text-decoration-color: #00af00\">128</span> │\n",
       "│ (<span style=\"color: #0087ff; text-decoration-color: #0087ff\">BatchNormalization</span>)            │                        │               │\n",
       "├─────────────────────────────────┼────────────────────────┼───────────────┤\n",
       "│ max_pooling2d_3 (<span style=\"color: #0087ff; text-decoration-color: #0087ff\">MaxPooling2D</span>)  │ (<span style=\"color: #00d7ff; text-decoration-color: #00d7ff\">None</span>, <span style=\"color: #00af00; text-decoration-color: #00af00\">8</span>, <span style=\"color: #00af00; text-decoration-color: #00af00\">8</span>, <span style=\"color: #00af00; text-decoration-color: #00af00\">32</span>)       │             <span style=\"color: #00af00; text-decoration-color: #00af00\">0</span> │\n",
       "├─────────────────────────────────┼────────────────────────┼───────────────┤\n",
       "│ conv2d_4 (<span style=\"color: #0087ff; text-decoration-color: #0087ff\">Conv2D</span>)               │ (<span style=\"color: #00d7ff; text-decoration-color: #00d7ff\">None</span>, <span style=\"color: #00af00; text-decoration-color: #00af00\">8</span>, <span style=\"color: #00af00; text-decoration-color: #00af00\">8</span>, <span style=\"color: #00af00; text-decoration-color: #00af00\">64</span>)       │        <span style=\"color: #00af00; text-decoration-color: #00af00\">18,496</span> │\n",
       "├─────────────────────────────────┼────────────────────────┼───────────────┤\n",
       "│ batch_normalization_14          │ (<span style=\"color: #00d7ff; text-decoration-color: #00d7ff\">None</span>, <span style=\"color: #00af00; text-decoration-color: #00af00\">8</span>, <span style=\"color: #00af00; text-decoration-color: #00af00\">8</span>, <span style=\"color: #00af00; text-decoration-color: #00af00\">64</span>)       │           <span style=\"color: #00af00; text-decoration-color: #00af00\">256</span> │\n",
       "│ (<span style=\"color: #0087ff; text-decoration-color: #0087ff\">BatchNormalization</span>)            │                        │               │\n",
       "├─────────────────────────────────┼────────────────────────┼───────────────┤\n",
       "│ max_pooling2d_4 (<span style=\"color: #0087ff; text-decoration-color: #0087ff\">MaxPooling2D</span>)  │ (<span style=\"color: #00d7ff; text-decoration-color: #00d7ff\">None</span>, <span style=\"color: #00af00; text-decoration-color: #00af00\">4</span>, <span style=\"color: #00af00; text-decoration-color: #00af00\">4</span>, <span style=\"color: #00af00; text-decoration-color: #00af00\">64</span>)       │             <span style=\"color: #00af00; text-decoration-color: #00af00\">0</span> │\n",
       "├─────────────────────────────────┼────────────────────────┼───────────────┤\n",
       "│ conv2d_5 (<span style=\"color: #0087ff; text-decoration-color: #0087ff\">Conv2D</span>)               │ (<span style=\"color: #00d7ff; text-decoration-color: #00d7ff\">None</span>, <span style=\"color: #00af00; text-decoration-color: #00af00\">4</span>, <span style=\"color: #00af00; text-decoration-color: #00af00\">4</span>, <span style=\"color: #00af00; text-decoration-color: #00af00\">128</span>)      │        <span style=\"color: #00af00; text-decoration-color: #00af00\">73,856</span> │\n",
       "├─────────────────────────────────┼────────────────────────┼───────────────┤\n",
       "│ batch_normalization_15          │ (<span style=\"color: #00d7ff; text-decoration-color: #00d7ff\">None</span>, <span style=\"color: #00af00; text-decoration-color: #00af00\">4</span>, <span style=\"color: #00af00; text-decoration-color: #00af00\">4</span>, <span style=\"color: #00af00; text-decoration-color: #00af00\">128</span>)      │           <span style=\"color: #00af00; text-decoration-color: #00af00\">512</span> │\n",
       "│ (<span style=\"color: #0087ff; text-decoration-color: #0087ff\">BatchNormalization</span>)            │                        │               │\n",
       "├─────────────────────────────────┼────────────────────────┼───────────────┤\n",
       "│ max_pooling2d_5 (<span style=\"color: #0087ff; text-decoration-color: #0087ff\">MaxPooling2D</span>)  │ (<span style=\"color: #00d7ff; text-decoration-color: #00d7ff\">None</span>, <span style=\"color: #00af00; text-decoration-color: #00af00\">2</span>, <span style=\"color: #00af00; text-decoration-color: #00af00\">2</span>, <span style=\"color: #00af00; text-decoration-color: #00af00\">128</span>)      │             <span style=\"color: #00af00; text-decoration-color: #00af00\">0</span> │\n",
       "├─────────────────────────────────┼────────────────────────┼───────────────┤\n",
       "│ flatten_1 (<span style=\"color: #0087ff; text-decoration-color: #0087ff\">Flatten</span>)             │ (<span style=\"color: #00d7ff; text-decoration-color: #00d7ff\">None</span>, <span style=\"color: #00af00; text-decoration-color: #00af00\">512</span>)            │             <span style=\"color: #00af00; text-decoration-color: #00af00\">0</span> │\n",
       "├─────────────────────────────────┼────────────────────────┼───────────────┤\n",
       "│ dense_14 (<span style=\"color: #0087ff; text-decoration-color: #0087ff\">Dense</span>)                │ (<span style=\"color: #00d7ff; text-decoration-color: #00d7ff\">None</span>, <span style=\"color: #00af00; text-decoration-color: #00af00\">128</span>)            │        <span style=\"color: #00af00; text-decoration-color: #00af00\">65,664</span> │\n",
       "├─────────────────────────────────┼────────────────────────┼───────────────┤\n",
       "│ batch_normalization_16          │ (<span style=\"color: #00d7ff; text-decoration-color: #00d7ff\">None</span>, <span style=\"color: #00af00; text-decoration-color: #00af00\">128</span>)            │           <span style=\"color: #00af00; text-decoration-color: #00af00\">512</span> │\n",
       "│ (<span style=\"color: #0087ff; text-decoration-color: #0087ff\">BatchNormalization</span>)            │                        │               │\n",
       "├─────────────────────────────────┼────────────────────────┼───────────────┤\n",
       "│ dropout_8 (<span style=\"color: #0087ff; text-decoration-color: #0087ff\">Dropout</span>)             │ (<span style=\"color: #00d7ff; text-decoration-color: #00d7ff\">None</span>, <span style=\"color: #00af00; text-decoration-color: #00af00\">128</span>)            │             <span style=\"color: #00af00; text-decoration-color: #00af00\">0</span> │\n",
       "├─────────────────────────────────┼────────────────────────┼───────────────┤\n",
       "│ dense_15 (<span style=\"color: #0087ff; text-decoration-color: #0087ff\">Dense</span>)                │ (<span style=\"color: #00d7ff; text-decoration-color: #00d7ff\">None</span>, <span style=\"color: #00af00; text-decoration-color: #00af00\">3</span>)              │           <span style=\"color: #00af00; text-decoration-color: #00af00\">387</span> │\n",
       "└─────────────────────────────────┴────────────────────────┴───────────────┘\n",
       "</pre>\n"
      ],
      "text/plain": [
       "┏━━━━━━━━━━━━━━━━━━━━━━━━━━━━━━━━━┳━━━━━━━━━━━━━━━━━━━━━━━━┳━━━━━━━━━━━━━━━┓\n",
       "┃\u001b[1m \u001b[0m\u001b[1mLayer (type)                   \u001b[0m\u001b[1m \u001b[0m┃\u001b[1m \u001b[0m\u001b[1mOutput Shape          \u001b[0m\u001b[1m \u001b[0m┃\u001b[1m \u001b[0m\u001b[1m      Param #\u001b[0m\u001b[1m \u001b[0m┃\n",
       "┡━━━━━━━━━━━━━━━━━━━━━━━━━━━━━━━━━╇━━━━━━━━━━━━━━━━━━━━━━━━╇━━━━━━━━━━━━━━━┩\n",
       "│ conv2d_3 (\u001b[38;5;33mConv2D\u001b[0m)               │ (\u001b[38;5;45mNone\u001b[0m, \u001b[38;5;34m16\u001b[0m, \u001b[38;5;34m16\u001b[0m, \u001b[38;5;34m32\u001b[0m)     │           \u001b[38;5;34m320\u001b[0m │\n",
       "├─────────────────────────────────┼────────────────────────┼───────────────┤\n",
       "│ batch_normalization_13          │ (\u001b[38;5;45mNone\u001b[0m, \u001b[38;5;34m16\u001b[0m, \u001b[38;5;34m16\u001b[0m, \u001b[38;5;34m32\u001b[0m)     │           \u001b[38;5;34m128\u001b[0m │\n",
       "│ (\u001b[38;5;33mBatchNormalization\u001b[0m)            │                        │               │\n",
       "├─────────────────────────────────┼────────────────────────┼───────────────┤\n",
       "│ max_pooling2d_3 (\u001b[38;5;33mMaxPooling2D\u001b[0m)  │ (\u001b[38;5;45mNone\u001b[0m, \u001b[38;5;34m8\u001b[0m, \u001b[38;5;34m8\u001b[0m, \u001b[38;5;34m32\u001b[0m)       │             \u001b[38;5;34m0\u001b[0m │\n",
       "├─────────────────────────────────┼────────────────────────┼───────────────┤\n",
       "│ conv2d_4 (\u001b[38;5;33mConv2D\u001b[0m)               │ (\u001b[38;5;45mNone\u001b[0m, \u001b[38;5;34m8\u001b[0m, \u001b[38;5;34m8\u001b[0m, \u001b[38;5;34m64\u001b[0m)       │        \u001b[38;5;34m18,496\u001b[0m │\n",
       "├─────────────────────────────────┼────────────────────────┼───────────────┤\n",
       "│ batch_normalization_14          │ (\u001b[38;5;45mNone\u001b[0m, \u001b[38;5;34m8\u001b[0m, \u001b[38;5;34m8\u001b[0m, \u001b[38;5;34m64\u001b[0m)       │           \u001b[38;5;34m256\u001b[0m │\n",
       "│ (\u001b[38;5;33mBatchNormalization\u001b[0m)            │                        │               │\n",
       "├─────────────────────────────────┼────────────────────────┼───────────────┤\n",
       "│ max_pooling2d_4 (\u001b[38;5;33mMaxPooling2D\u001b[0m)  │ (\u001b[38;5;45mNone\u001b[0m, \u001b[38;5;34m4\u001b[0m, \u001b[38;5;34m4\u001b[0m, \u001b[38;5;34m64\u001b[0m)       │             \u001b[38;5;34m0\u001b[0m │\n",
       "├─────────────────────────────────┼────────────────────────┼───────────────┤\n",
       "│ conv2d_5 (\u001b[38;5;33mConv2D\u001b[0m)               │ (\u001b[38;5;45mNone\u001b[0m, \u001b[38;5;34m4\u001b[0m, \u001b[38;5;34m4\u001b[0m, \u001b[38;5;34m128\u001b[0m)      │        \u001b[38;5;34m73,856\u001b[0m │\n",
       "├─────────────────────────────────┼────────────────────────┼───────────────┤\n",
       "│ batch_normalization_15          │ (\u001b[38;5;45mNone\u001b[0m, \u001b[38;5;34m4\u001b[0m, \u001b[38;5;34m4\u001b[0m, \u001b[38;5;34m128\u001b[0m)      │           \u001b[38;5;34m512\u001b[0m │\n",
       "│ (\u001b[38;5;33mBatchNormalization\u001b[0m)            │                        │               │\n",
       "├─────────────────────────────────┼────────────────────────┼───────────────┤\n",
       "│ max_pooling2d_5 (\u001b[38;5;33mMaxPooling2D\u001b[0m)  │ (\u001b[38;5;45mNone\u001b[0m, \u001b[38;5;34m2\u001b[0m, \u001b[38;5;34m2\u001b[0m, \u001b[38;5;34m128\u001b[0m)      │             \u001b[38;5;34m0\u001b[0m │\n",
       "├─────────────────────────────────┼────────────────────────┼───────────────┤\n",
       "│ flatten_1 (\u001b[38;5;33mFlatten\u001b[0m)             │ (\u001b[38;5;45mNone\u001b[0m, \u001b[38;5;34m512\u001b[0m)            │             \u001b[38;5;34m0\u001b[0m │\n",
       "├─────────────────────────────────┼────────────────────────┼───────────────┤\n",
       "│ dense_14 (\u001b[38;5;33mDense\u001b[0m)                │ (\u001b[38;5;45mNone\u001b[0m, \u001b[38;5;34m128\u001b[0m)            │        \u001b[38;5;34m65,664\u001b[0m │\n",
       "├─────────────────────────────────┼────────────────────────┼───────────────┤\n",
       "│ batch_normalization_16          │ (\u001b[38;5;45mNone\u001b[0m, \u001b[38;5;34m128\u001b[0m)            │           \u001b[38;5;34m512\u001b[0m │\n",
       "│ (\u001b[38;5;33mBatchNormalization\u001b[0m)            │                        │               │\n",
       "├─────────────────────────────────┼────────────────────────┼───────────────┤\n",
       "│ dropout_8 (\u001b[38;5;33mDropout\u001b[0m)             │ (\u001b[38;5;45mNone\u001b[0m, \u001b[38;5;34m128\u001b[0m)            │             \u001b[38;5;34m0\u001b[0m │\n",
       "├─────────────────────────────────┼────────────────────────┼───────────────┤\n",
       "│ dense_15 (\u001b[38;5;33mDense\u001b[0m)                │ (\u001b[38;5;45mNone\u001b[0m, \u001b[38;5;34m3\u001b[0m)              │           \u001b[38;5;34m387\u001b[0m │\n",
       "└─────────────────────────────────┴────────────────────────┴───────────────┘\n"
      ]
     },
     "metadata": {},
     "output_type": "display_data"
    },
    {
     "data": {
      "text/html": [
       "<pre style=\"white-space:pre;overflow-x:auto;line-height:normal;font-family:Menlo,'DejaVu Sans Mono',consolas,'Courier New',monospace\"><span style=\"font-weight: bold\"> Total params: </span><span style=\"color: #00af00; text-decoration-color: #00af00\">160,131</span> (625.51 KB)\n",
       "</pre>\n"
      ],
      "text/plain": [
       "\u001b[1m Total params: \u001b[0m\u001b[38;5;34m160,131\u001b[0m (625.51 KB)\n"
      ]
     },
     "metadata": {},
     "output_type": "display_data"
    },
    {
     "data": {
      "text/html": [
       "<pre style=\"white-space:pre;overflow-x:auto;line-height:normal;font-family:Menlo,'DejaVu Sans Mono',consolas,'Courier New',monospace\"><span style=\"font-weight: bold\"> Trainable params: </span><span style=\"color: #00af00; text-decoration-color: #00af00\">159,427</span> (622.76 KB)\n",
       "</pre>\n"
      ],
      "text/plain": [
       "\u001b[1m Trainable params: \u001b[0m\u001b[38;5;34m159,427\u001b[0m (622.76 KB)\n"
      ]
     },
     "metadata": {},
     "output_type": "display_data"
    },
    {
     "data": {
      "text/html": [
       "<pre style=\"white-space:pre;overflow-x:auto;line-height:normal;font-family:Menlo,'DejaVu Sans Mono',consolas,'Courier New',monospace\"><span style=\"font-weight: bold\"> Non-trainable params: </span><span style=\"color: #00af00; text-decoration-color: #00af00\">704</span> (2.75 KB)\n",
       "</pre>\n"
      ],
      "text/plain": [
       "\u001b[1m Non-trainable params: \u001b[0m\u001b[38;5;34m704\u001b[0m (2.75 KB)\n"
      ]
     },
     "metadata": {},
     "output_type": "display_data"
    },
    {
     "name": "stdout",
     "output_type": "stream",
     "text": [
      "Epoch 1/100\n",
      "\u001b[1m583/583\u001b[0m \u001b[32m━━━━━━━━━━━━━━━━━━━━\u001b[0m\u001b[37m\u001b[0m \u001b[1m6s\u001b[0m 9ms/step - accuracy: 0.7388 - loss: 0.6267 - val_accuracy: 0.4182 - val_loss: 2.3439\n",
      "Epoch 2/100\n",
      "\u001b[1m583/583\u001b[0m \u001b[32m━━━━━━━━━━━━━━━━━━━━\u001b[0m\u001b[37m\u001b[0m \u001b[1m5s\u001b[0m 8ms/step - accuracy: 0.8958 - loss: 0.2649 - val_accuracy: 0.4633 - val_loss: 3.8291\n",
      "Epoch 3/100\n",
      "\u001b[1m583/583\u001b[0m \u001b[32m━━━━━━━━━━━━━━━━━━━━\u001b[0m\u001b[37m\u001b[0m \u001b[1m5s\u001b[0m 9ms/step - accuracy: 0.9247 - loss: 0.1905 - val_accuracy: 0.4316 - val_loss: 4.5721\n",
      "Epoch 4/100\n",
      "\u001b[1m583/583\u001b[0m \u001b[32m━━━━━━━━━━━━━━━━━━━━\u001b[0m\u001b[37m\u001b[0m \u001b[1m5s\u001b[0m 8ms/step - accuracy: 0.9399 - loss: 0.1525 - val_accuracy: 0.4316 - val_loss: 4.5816\n",
      "Epoch 5/100\n",
      "\u001b[1m583/583\u001b[0m \u001b[32m━━━━━━━━━━━━━━━━━━━━\u001b[0m\u001b[37m\u001b[0m \u001b[1m5s\u001b[0m 8ms/step - accuracy: 0.9513 - loss: 0.1262 - val_accuracy: 0.4316 - val_loss: 3.1433\n",
      "Epoch 6/100\n",
      "\u001b[1m583/583\u001b[0m \u001b[32m━━━━━━━━━━━━━━━━━━━━\u001b[0m\u001b[37m\u001b[0m \u001b[1m5s\u001b[0m 9ms/step - accuracy: 0.9601 - loss: 0.1054 - val_accuracy: 0.4275 - val_loss: 3.1823\n",
      "Epoch 7/100\n",
      "\u001b[1m583/583\u001b[0m \u001b[32m━━━━━━━━━━━━━━━━━━━━\u001b[0m\u001b[37m\u001b[0m \u001b[1m5s\u001b[0m 9ms/step - accuracy: 0.9599 - loss: 0.1083 - val_accuracy: 0.4335 - val_loss: 4.4325\n",
      "Epoch 8/100\n",
      "\u001b[1m583/583\u001b[0m \u001b[32m━━━━━━━━━━━━━━━━━━━━\u001b[0m\u001b[37m\u001b[0m \u001b[1m5s\u001b[0m 9ms/step - accuracy: 0.9711 - loss: 0.0746 - val_accuracy: 0.4410 - val_loss: 3.3667\n",
      "Epoch 9/100\n",
      "\u001b[1m583/583\u001b[0m \u001b[32m━━━━━━━━━━━━━━━━━━━━\u001b[0m\u001b[37m\u001b[0m \u001b[1m5s\u001b[0m 9ms/step - accuracy: 0.9724 - loss: 0.0765 - val_accuracy: 0.4109 - val_loss: 4.3492\n",
      "Epoch 10/100\n",
      "\u001b[1m583/583\u001b[0m \u001b[32m━━━━━━━━━━━━━━━━━━━━\u001b[0m\u001b[37m\u001b[0m \u001b[1m5s\u001b[0m 8ms/step - accuracy: 0.9714 - loss: 0.0779 - val_accuracy: 0.3809 - val_loss: 5.1961\n",
      "Epoch 11/100\n",
      "\u001b[1m583/583\u001b[0m \u001b[32m━━━━━━━━━━━━━━━━━━━━\u001b[0m\u001b[37m\u001b[0m \u001b[1m5s\u001b[0m 9ms/step - accuracy: 0.9757 - loss: 0.0652 - val_accuracy: 0.3691 - val_loss: 4.6325\n",
      "Test Accuracy: 0.42\n",
      "\u001b[1m151/151\u001b[0m \u001b[32m━━━━━━━━━━━━━━━━━━━━\u001b[0m\u001b[37m\u001b[0m \u001b[1m0s\u001b[0m 2ms/step\n"
     ]
    },
    {
     "data": {
      "image/png": "[encoded data removed]",
      "text/plain": [
       "<Figure size 600x400 with 2 Axes>"
      ]
     },
     "metadata": {},
     "output_type": "display_data"
    },
    {
     "name": "stdout",
     "output_type": "stream",
     "text": [
      "              precision    recall  f1-score   support\n",
      "\n",
      "       Small       0.00      0.00      0.00      1333\n",
      "      Middle       0.18      0.07      0.10      1411\n",
      "        High       0.45      0.92      0.60      2084\n",
      "\n",
      "    accuracy                           0.42      4828\n",
      "   macro avg       0.21      0.33      0.24      4828\n",
      "weighted avg       0.25      0.42      0.29      4828\n",
      "\n"
     ]
    }
   ],
   "source": [
    "import os\n",
    "import numpy as np\n",
    "import tensorflow as tf\n",
    "from tensorflow import keras\n",
    "from tensorflow.keras import layers\n",
    "from tensorflow.keras.optimizers import Adam\n",
    "from tensorflow.keras.callbacks import EarlyStopping\n",
    "from tensorflow.keras.utils import to_categorical\n",
    "from sklearn.preprocessing import StandardScaler\n",
    "from sklearn.metrics import confusion_matrix, classification_report\n",
    "from sklearn.utils.class_weight import compute_class_weight\n",
    "import matplotlib.pyplot as plt\n",
    "import seaborn as sns\n",
    "from collections import Counter\n",
    "#from imblearn.over_sampling import SMOTE\n",
    "\n",
    "# ------------------------------\n",
    "# 1. Define Data Directories\n",
    "# ------------------------------\n",
    "training_dataset_dir = \"/Users/MA_Arash/MA_git/EIT_Thigh_Force_Estimation/Data/Training_set\"\n",
    "testing_dataset_dir = \"/Users/MA_Arash/MA_git/EIT_Thigh_Force_Estimation/Data/Test_set\"\n",
    "\n",
    "# ------------------------------\n",
    "# 2. Categorize Force Values\n",
    "# ------------------------------\n",
    "def categorize_force(value):\n",
    "    \"\"\"\n",
    "    Categorizes force into three classes:\n",
    "    0: Small (20 <= force < 40)\n",
    "    1: Middle (40 <= force < 60)\n",
    "    2: High (60 <= force <= 80)\n",
    "    \"\"\"\n",
    "    if 20 <= value < 40:\n",
    "        return 0  # Small\n",
    "    elif 40 <= value < 60:\n",
    "        return 1  # Middle\n",
    "    elif 60 <= value <= 80:\n",
    "        return 2  # High\n",
    "    else:\n",
    "        raise ValueError(f\"Unexpected force value: {value}\")\n",
    "\n",
    "# ------------------------------\n",
    "# 3. Load Data from .npz Files\n",
    "# ------------------------------\n",
    "# Load training data\n",
    "npz_files_train = [f for f in os.listdir(training_dataset_dir) if f.endswith('.npz')]\n",
    "X_train_list, y_train_list = [], []\n",
    "\n",
    "for file in npz_files_train:\n",
    "    file_path = os.path.join(training_dataset_dir, file)\n",
    "    data = np.load(file_path)\n",
    "    # Flatten the 16x16 EIT data into a 1D vector\n",
    "    eit_data_flat = data['eit'].reshape(16, 16, 1)  # Reshaping for CNN (height, width, channels)\n",
    "    target_force = data['target_force']\n",
    "    \n",
    "    X_train_list.append(eit_data_flat)\n",
    "    y_train_list.append(categorize_force(target_force))\n",
    "\n",
    "# Load testing data\n",
    "npz_files_test = [f for f in os.listdir(testing_dataset_dir) if f.endswith('.npz')]\n",
    "X_test_list, y_test_list = [], []\n",
    "\n",
    "for file in npz_files_test:\n",
    "    file_path = os.path.join(testing_dataset_dir, file)\n",
    "    data = np.load(file_path)\n",
    "    eit_data_flat = data['eit'].reshape(16, 16, 1)  # Reshaping for CNN (height, width, channels)\n",
    "    target_force = data['target_force']\n",
    "    \n",
    "    X_test_list.append(eit_data_flat)\n",
    "    y_test_list.append(categorize_force(target_force))\n",
    "\n",
    "# Convert lists to numpy arrays\n",
    "X_train = np.array(X_train_list)\n",
    "y_train = np.array(y_train_list)\n",
    "X_test = np.array(X_test_list)\n",
    "y_test = np.array(y_test_list)\n",
    "\n",
    "print(\"Original training class distribution:\", Counter(y_train))\n",
    "print(\"Original testing class distribution:\", Counter(y_test))\n",
    "\n",
    "# ------------------------------\n",
    "# 4. Scale the Features\n",
    "# ------------------------------\n",
    "# Optional: Use StandardScaler or MinMaxScaler if needed.\n",
    "scaler = StandardScaler()\n",
    "X_train = X_train.reshape(-1, 16*16)  # Flatten to use scaler\n",
    "X_test = X_test.reshape(-1, 16*16)  # Flatten to use scaler\n",
    "X_train = scaler.fit_transform(X_train)\n",
    "X_test = scaler.transform(X_test)\n",
    "\n",
    "# Reshape back to 16x16 for CNN\n",
    "X_train = X_train.reshape(-1, 16, 16, 1)\n",
    "X_test = X_test.reshape(-1, 16, 16, 1)\n",
    "\n",
    "# ------------------------------\n",
    "# 5. Optional: Balance Training Data using SMOTE\n",
    "# ------------------------------\n",
    "# SMOTE works on integer labels, so apply it before one-hot encoding.\n",
    "#smote = SMOTE(random_state=42)\n",
    "#X_train, y_train = smote.fit_resample(X_train.reshape(X_train.shape[0], -1), y_train)\n",
    "#X_train = X_train.reshape(-1, 16, 16, 1)  # Reshape back to 16x16 for CNN\n",
    "#print(\"After SMOTE, training class distribution:\", Counter(y_train))\n",
    "\n",
    "# ------------------------------\n",
    "# 6. Convert Labels to Categorical (One-Hot Encoding)\n",
    "# ------------------------------\n",
    "num_classes = 3\n",
    "y_train_cat = to_categorical(y_train, num_classes)\n",
    "y_test_cat = to_categorical(y_test, num_classes)\n",
    "\n",
    "# ------------------------------\n",
    "# 7. Compute Class Weights\n",
    "# ------------------------------\n",
    "class_weights = compute_class_weight('balanced', classes=np.unique(y_train), y=y_train)\n",
    "class_weight_dict = {i: class_weights[i] for i in range(num_classes)}\n",
    "print(\"Class weights:\", class_weight_dict)\n",
    "\n",
    "# ------------------------------\n",
    "# 8. Build the CNN Model with Padding and Adjusted Pooling\n",
    "# ------------------------------\n",
    "def create_cnn_model():\n",
    "    model = keras.Sequential([\n",
    "        layers.Conv2D(32, (3, 3), activation='relu', padding='same', input_shape=(16, 16, 1)),\n",
    "        layers.BatchNormalization(),\n",
    "        layers.MaxPooling2D((2, 2), padding='same'),  # Use 'same' padding to prevent dimension reduction\n",
    "        \n",
    "        layers.Conv2D(64, (3, 3), activation='relu', padding='same'),\n",
    "        layers.BatchNormalization(),\n",
    "        layers.MaxPooling2D((2, 2), padding='same'),\n",
    "        \n",
    "        layers.Conv2D(128, (3, 3), activation='relu', padding='same'),\n",
    "        layers.BatchNormalization(),\n",
    "        layers.MaxPooling2D((2, 2), padding='same'),\n",
    "        \n",
    "        layers.Flatten(),\n",
    "        \n",
    "        layers.Dense(128, activation='relu'),\n",
    "        layers.BatchNormalization(),\n",
    "        layers.Dropout(0.4),\n",
    "        \n",
    "        layers.Dense(num_classes, activation='softmax')\n",
    "    ])\n",
    "    model.compile(optimizer=Adam(learning_rate=0.001),\n",
    "                  loss='categorical_crossentropy',\n",
    "                  metrics=['accuracy'])\n",
    "    return model\n",
    "\n",
    "cnn_model = create_cnn_model()\n",
    "cnn_model.summary()\n",
    "\n",
    "# ------------------------------\n",
    "# 9. Train the Model with Early Stopping\n",
    "# ------------------------------\n",
    "early_stop = EarlyStopping(monitor='val_loss', patience=10, restore_best_weights=True)\n",
    "\n",
    "history = cnn_model.fit(\n",
    "    X_train, y_train_cat,\n",
    "    epochs=100,\n",
    "    batch_size=32,\n",
    "    validation_data=(X_test, y_test_cat),\n",
    "    callbacks=[early_stop],\n",
    "    class_weight=class_weight_dict,\n",
    "    verbose=1\n",
    ")\n",
    "\n",
    "# ------------------------------\n",
    "# 10. Evaluate the CNN Model\n",
    "# ------------------------------\n",
    "test_loss, test_acc = cnn_model.evaluate(X_test, y_test_cat, verbose=0)\n",
    "print(f\"Test Accuracy: {test_acc:.2f}\")\n",
    "\n",
    "# ------------------------------\n",
    "# 11. Generate Predictions and Evaluate with a Confusion Matrix\n",
    "# ------------------------------\n",
    "y_pred = cnn_model.predict(X_test)\n",
    "y_pred_classes = np.argmax(y_pred, axis=1)\n",
    "y_true_classes = np.argmax(y_test_cat, axis=1)\n",
    "\n",
    "cm = confusion_matrix(y_true_classes, y_pred_classes)\n",
    "plt.figure(figsize=(6, 4))\n",
    "sns.heatmap(cm, annot=True, fmt=\"d\", cmap=\"Blues\",\n",
    "            xticklabels=[\"Small\", \"Middle\", \"High\"],\n",
    "            yticklabels=[\"Small\", \"Middle\", \"High\"])\n",
    "plt.xlabel(\"Predicted\")\n",
    "plt.ylabel(\"Actual\")\n",
    "plt.title(\"Confusion Matrix - CNN\")\n",
    "plt.show()\n",
    "\n",
    "print(classification_report(y_true_classes, y_pred_classes, target_names=[\"Small\", \"Middle\", \"High\"]))\n"
   ]
  },
  {
   "cell_type": "code",
   "execution_count": null,
   "metadata": {},
   "outputs": [],
   "source": []
  },
  {
   "cell_type": "code",
   "execution_count": null,
   "metadata": {},
   "outputs": [],
   "source": []
  },
  {
   "cell_type": "code",
   "execution_count": 7,
   "metadata": {},
   "outputs": [
    {
     "name": "stdout",
     "output_type": "stream",
     "text": [
      "Loaded 18635 samples, each with 256 features from 8 participants.\n",
      "Train Participants: [np.str_('P03'), np.str_('P04'), np.str_('P05'), np.str_('P07'), np.str_('P08'), np.str_('P09')]\n",
      "Test Participants: [np.str_('P02'), np.str_('P06')]\n",
      "Training samples: 14045, Testing samples: 4590\n"
     ]
    }
   ],
   "source": [
    "import os\n",
    "import numpy as np\n",
    "import random\n",
    "from sklearn.model_selection import train_test_split\n",
    "\n",
    "X = []\n",
    "y = []\n",
    "participants = []  # Store participant IDs\n",
    "\n",
    "# Load data and keep track of participant ID\n",
    "for file in npz_files:\n",
    "    file_path = os.path.join(dataset_dir, file)\n",
    "    data = np.load(file_path)\n",
    "\n",
    "    eit_data = data['eit']\n",
    "    target_force = data['target_force']\n",
    "    # flatten the eit data\n",
    "    eit_data_flat = eit_data.reshape(-1)\n",
    "    \n",
    "    participant_id = data['participant'].item()  # Ensure it's a string like \"P07\"\n",
    "    \n",
    "    eit_data_flat = eit_data.reshape(-1)  # Flatten the 16x16 frames into a single vector\n",
    "\n",
    "    X.append(eit_data_flat)\n",
    "    y.append(categorize_target_force(target_force))\n",
    "    participants.append(participant_id)  # Store participant ID\n",
    "\n",
    "# Convert lists to numpy arrays\n",
    "X = np.array(X)\n",
    "y = np.array(y)\n",
    "participants = np.array(participants)\n",
    "\n",
    "print(f\"Loaded {len(X)} samples, each with {X.shape[1]} features from {len(set(participants))} participants.\")\n",
    "\n",
    "# ------------------- Split by Participant -------------------\n",
    "\n",
    "# Get unique participant IDs and randomly select 2 for testing\n",
    "unique_participants = np.unique(participants)\n",
    "test_participants = random.sample(list(unique_participants), 2)  # Select 2 participants for testing\n",
    "train_participants = [p for p in unique_participants if p not in test_participants]\n",
    "\n",
    "print(\"Train Participants:\", train_participants)\n",
    "print(\"Test Participants:\", test_participants)\n",
    "\n",
    "# Create train and test sets based on participant ID\n",
    "train_indices = np.isin(participants, train_participants)\n",
    "test_indices = np.isin(participants, test_participants)\n",
    "\n",
    "X_train, y_train = X[train_indices], y[train_indices]\n",
    "X_test, y_test = X[test_indices], y[test_indices]\n",
    "\n",
    "print(f\"Training samples: {len(X_train)}, Testing samples: {len(X_test)}\")\n",
    "\n"
   ]
  },
  {
   "cell_type": "code",
   "execution_count": 8,
   "metadata": {},
   "outputs": [
    {
     "name": "stdout",
     "output_type": "stream",
     "text": [
      "Random Forest Accuracy: 0.27\n"
     ]
    },
    {
     "data": {
      "image/png": "[encoded data removed]",
      "text/plain": [
       "<Figure size 600x400 with 2 Axes>"
      ]
     },
     "metadata": {},
     "output_type": "display_data"
    },
    {
     "name": "stdout",
     "output_type": "stream",
     "text": [
      "              precision    recall  f1-score   support\n",
      "\n",
      "       Small       0.35      0.31      0.33      1922\n",
      "      Middle       0.22      0.45      0.29      1376\n",
      "        High       0.78      0.01      0.01      1292\n",
      "\n",
      "    accuracy                           0.27      4590\n",
      "   macro avg       0.45      0.26      0.21      4590\n",
      "weighted avg       0.43      0.27      0.23      4590\n",
      "\n"
     ]
    }
   ],
   "source": [
    "from sklearn.preprocessing import StandardScaler\n",
    "scaler = StandardScaler()\n",
    "X_train = scaler.fit_transform(X_train)\n",
    "X_test = scaler.transform(X_test)\n",
    "\n",
    "rf_model = RandomForestClassifier(n_estimators=100, random_state=42)\n",
    "rf_model.fit(X_train, y_train)\n",
    "\n",
    "# Make predictions with Random Forest\n",
    "y_pred_rf = rf_model.predict(X_test)\n",
    "\n",
    "# Evaluate Random Forest accuracy\n",
    "accuracy_rf = accuracy_score(y_test, y_pred_rf)\n",
    "print(f'Random Forest Accuracy: {accuracy_rf:.2f}')\n",
    "\n",
    "# Confusion matrix for Random Forest\n",
    "cm_rf = confusion_matrix(y_test, y_pred_rf)\n",
    "plt.figure(figsize=(6,4))\n",
    "sns.heatmap(cm_rf, annot=True, fmt=\"d\", cmap=\"Greens\", xticklabels=[\"Small\", \"Middle\", \"High\"], yticklabels=[\"Small\", \"Middle\", \"High\"])\n",
    "plt.xlabel('Predicted')\n",
    "plt.ylabel('Actual')\n",
    "plt.title('Confusion Matrix - Random Forest')\n",
    "plt.show()\n",
    "\n",
    "print(classification_report(y_test, y_pred_rf, target_names=[\"Small\", \"Middle\", \"High\"]))"
   ]
  },
  {
   "cell_type": "code",
   "execution_count": 9,
   "metadata": {},
   "outputs": [
    {
     "name": "stdout",
     "output_type": "stream",
     "text": [
      "{'max_depth': None, 'min_samples_leaf': 1, 'min_samples_split': 2, 'n_estimators': 100}\n"
     ]
    }
   ],
   "source": [
    "from sklearn.model_selection import GridSearchCV\n",
    "param_grid = {\n",
    "    'n_estimators': [100, 200, 500],\n",
    "    'max_depth': [None, 10, 20],\n",
    "    'min_samples_split': [2, 5, 10],\n",
    "    'min_samples_leaf': [1, 2, 4]\n",
    "}\n",
    "grid_search = GridSearchCV(RandomForestClassifier(random_state=42), param_grid, cv=3, n_jobs=-1)\n",
    "grid_search.fit(X_train, y_train)\n",
    "print(grid_search.best_params_)\n"
   ]
  },
  {
   "cell_type": "code",
   "execution_count": 10,
   "metadata": {},
   "outputs": [
    {
     "name": "stdout",
     "output_type": "stream",
     "text": [
      "Counter({np.int64(0): 6001, np.int64(1): 4072, np.int64(2): 3972})\n",
      "Counter({np.int64(0): 1922, np.int64(1): 1376, np.int64(2): 1292})\n"
     ]
    }
   ],
   "source": [
    "from collections import Counter\n",
    "print(Counter(y_train))\n",
    "print(Counter(y_test))\n"
   ]
  },
  {
   "cell_type": "code",
   "execution_count": 26,
   "metadata": {},
   "outputs": [
    {
     "name": "stdout",
     "output_type": "stream",
     "text": [
      "Test Accuracy: 0.59\n",
      "Test Accuracy: 0.37\n",
      "Test Accuracy: 0.44\n",
      "Test Accuracy: 0.27\n",
      "Test Accuracy: 0.24\n",
      "Test Accuracy: 0.42\n",
      "Test Accuracy: 0.53\n",
      "Test Accuracy: 0.29\n"
     ]
    }
   ],
   "source": [
    "from sklearn.model_selection import LeaveOneGroupOut\n",
    "\n",
    "logo = LeaveOneGroupOut()\n",
    "for train_idx, test_idx in logo.split(X, y, groups=participants):\n",
    "    X_train, X_test = X[train_idx], X[test_idx]\n",
    "    y_train, y_test = y[train_idx], y[test_idx]\n",
    "    \n",
    "    svm_model.fit(X_train, y_train)\n",
    "    accuracy = svm_model.score(X_test, y_test)\n",
    "    print(f\"Test Accuracy: {accuracy:.2f}\")\n"
   ]
  },
  {
   "cell_type": "code",
   "execution_count": null,
   "metadata": {},
   "outputs": [],
   "source": []
  },
  {
   "cell_type": "markdown",
   "metadata": {},
   "source": [
    "### Extract the data from `.npz` files"
   ]
  },
  {
   "cell_type": "code",
   "execution_count": null,
   "metadata": {},
   "outputs": [
    {
     "name": "stdout",
     "output_type": "stream",
     "text": [
      "Loaded 18635 samples, each with 256 features\n"
     ]
    }
   ],
   "source": [
    "X = list()\n",
    "y = list()\n",
    "\n",
    "logo = LeaveOneGroupOut()\n",
    "\n",
    "\n",
    "for file in npz_files:\n",
    "    file_path = os.path.join(dataset_dir, file)\n",
    "    data = np.load(file_path)\n",
    "    \n",
    "    eit_data = data['eit']\n",
    "    target_force = data['target_force']\n",
    "    # flatten the eit data\n",
    "    eit_data_flat = eit_data.reshape(-1)\n",
    "    \n",
    "    X.append(eit_data_flat)\n",
    "    y.append(categorize_target_force(target_force))\n",
    "\n",
    "X = np.array(X)\n",
    "y = np.array(y)\n",
    "\n",
    "print(f\"Loaded {len(X)} samples, each with {X.shape[1]} features\")\n"
   ]
  },
  {
   "cell_type": "code",
   "execution_count": null,
   "metadata": {},
   "outputs": [],
   "source": [
    "\n",
    "groups = df[\"participant_id\"].values  # Use participant ID for splitting\n",
    "\n",
    "for train_index, test_index in logo.split(df.drop(columns=[\"label\", \"participant_id\"]), df[\"label\"], groups):\n",
    "    X_train, X_test = df.iloc[train_index].drop(columns=[\"label\", \"participant_id\"]), df.iloc[test_index].drop(columns=[\"label\", \"participant_id\"])\n",
    "    y_train, y_test = df.iloc[train_index][\"label\"], df.iloc[test_index][\"label\"]\n",
    "\n",
    "    model = RandomForestClassifier(n_estimators=100, random_state=42)\n",
    "    model.fit(X_train, y_train)\n",
    "    y_pred = model.predict(X_test)\n",
    "\n",
    "    print(\"Test participant:\", groups[test_index][0])\n",
    "    print(classification_report(y_test, y_pred))\n"
   ]
  },
  {
   "cell_type": "markdown",
   "metadata": {},
   "source": [
    "## SVM Method"
   ]
  },
  {
   "cell_type": "code",
   "execution_count": null,
   "metadata": {},
   "outputs": [
    {
     "name": "stdout",
     "output_type": "stream",
     "text": [
      "SVM Accuracy: 0.97\n"
     ]
    },
    {
     "data": {
      "image/png": "[encoded data removed]",
      "text/plain": [
       "<Figure size 600x400 with 2 Axes>"
      ]
     },
     "metadata": {},
     "output_type": "display_data"
    },
    {
     "name": "stdout",
     "output_type": "stream",
     "text": [
      "              precision    recall  f1-score   support\n",
      "\n",
      "       Small       0.95      0.99      0.97      1618\n",
      "      Middle       0.98      0.95      0.96      1092\n",
      "        High       0.99      0.96      0.98      1017\n",
      "\n",
      "    accuracy                           0.97      3727\n",
      "   macro avg       0.97      0.97      0.97      3727\n",
      "weighted avg       0.97      0.97      0.97      3727\n",
      "\n"
     ]
    }
   ],
   "source": [
    "X_train, X_test, y_train, y_test = train_test_split(X, y, test_size=0.2, random_state=42)\n",
    "\n",
    "# Standardize features\n",
    "scaler = StandardScaler()\n",
    "X_train = scaler.fit_transform(X_train) \n",
    "X_test = scaler.transform(X_test) \n",
    "\n",
    "# Initialize and train SVM model\n",
    "svm_model = SVC(kernel='linear')  \n",
    "svm_model.fit(X_train, y_train)\n",
    "\n",
    "# Make predictions on the test set\n",
    "y_pred_svm = svm_model.predict(X_test)\n",
    "\n",
    "# Evaluate SVM accuracy on the test set\n",
    "accuracy_svm = accuracy_score(y_test, y_pred_svm)\n",
    "print(f'SVM Accuracy: {accuracy_svm:.2f}')\n",
    "\n",
    "# Confusion matrix for SVM (only on test set)\n",
    "cm_svm = confusion_matrix(y_test, y_pred_svm)\n",
    "\n",
    "# Plot confusion matrix\n",
    "plt.figure(figsize=(6,4))\n",
    "sns.heatmap(cm_svm, annot=True, fmt=\"d\", cmap=\"Blues\", xticklabels=[\"Small\", \"Middle\", \"High\"], yticklabels=[\"Small\", \"Middle\", \"High\"])\n",
    "plt.xlabel('Predicted')\n",
    "plt.ylabel('Truth')\n",
    "plt.title('Confusion Matrix - SVM')\n",
    "plt.show()\n",
    "\n",
    "print(classification_report(y_test, y_pred_svm, target_names=[\"Small\", \"Middle\", \"High\"]))"
   ]
  },
  {
   "cell_type": "markdown",
   "metadata": {},
   "source": [
    "## Random Forest classification"
   ]
  },
  {
   "cell_type": "code",
   "execution_count": 6,
   "metadata": {},
   "outputs": [
    {
     "name": "stdout",
     "output_type": "stream",
     "text": [
      "Random Forest Accuracy: 1.00\n"
     ]
    },
    {
     "data": {
      "image/png": "[encoded data removed]",
      "text/plain": [
       "<Figure size 600x400 with 2 Axes>"
      ]
     },
     "metadata": {},
     "output_type": "display_data"
    },
    {
     "name": "stdout",
     "output_type": "stream",
     "text": [
      "              precision    recall  f1-score   support\n",
      "\n",
      "       Small       1.00      1.00      1.00      1618\n",
      "      Middle       1.00      1.00      1.00      1092\n",
      "        High       1.00      1.00      1.00      1017\n",
      "\n",
      "    accuracy                           1.00      3727\n",
      "   macro avg       1.00      1.00      1.00      3727\n",
      "weighted avg       1.00      1.00      1.00      3727\n",
      "\n"
     ]
    }
   ],
   "source": [
    "rf_model = RandomForestClassifier(n_estimators=100, random_state=42)\n",
    "rf_model.fit(X_train, y_train)\n",
    "\n",
    "# Make predictions with Random Forest\n",
    "y_pred_rf = rf_model.predict(X_test)\n",
    "\n",
    "# Evaluate Random Forest accuracy\n",
    "accuracy_rf = accuracy_score(y_test, y_pred_rf)\n",
    "print(f'Random Forest Accuracy: {accuracy_rf:.2f}')\n",
    "\n",
    "# Confusion matrix for Random Forest\n",
    "cm_rf = confusion_matrix(y_test, y_pred_rf)\n",
    "plt.figure(figsize=(6,4))\n",
    "sns.heatmap(cm_rf, annot=True, fmt=\"d\", cmap=\"Greens\", xticklabels=[\"Small\", \"Middle\", \"High\"], yticklabels=[\"Small\", \"Middle\", \"High\"])\n",
    "plt.xlabel('Predicted')\n",
    "plt.ylabel('Actual')\n",
    "plt.title('Confusion Matrix - Random Forest')\n",
    "plt.show()\n",
    "\n",
    "print(classification_report(y_test, y_pred_rf, target_names=[\"Small\", \"Middle\", \"High\"]))"
   ]
  },
  {
   "cell_type": "markdown",
   "metadata": {},
   "source": [
    "## Classification for 7 Target force levels"
   ]
  },
  {
   "cell_type": "code",
   "execution_count": 7,
   "metadata": {},
   "outputs": [
    {
     "name": "stdout",
     "output_type": "stream",
     "text": [
      "Loaded 18635 samples, each with 256 features\n"
     ]
    }
   ],
   "source": [
    "X_all_target = list()\n",
    "y_all_target = list()\n",
    "\n",
    "for file in npz_files:\n",
    "    file_path = os.path.join(dataset_dir, file)\n",
    "    data = np.load(file_path)\n",
    "    \n",
    "    eit_data = data['eit']\n",
    "    target_force = data['target_force']\n",
    "    \n",
    "    # flatten the eit data\n",
    "    eit_data_flat = eit_data.reshape(-1)\n",
    "    \n",
    "    X_all_target.append(eit_data_flat)\n",
    "    y_all_target.append(target_force)\n",
    "\n",
    "X_all_target = np.array(X_all_target)\n",
    "y_all_target = np.array(y_all_target)\n",
    "\n",
    "print(f\"Loaded {len(X_all_target)} samples, each with {X_all_target.shape[1]} features\")"
   ]
  },
  {
   "cell_type": "code",
   "execution_count": 8,
   "metadata": {},
   "outputs": [
    {
     "data": {
      "text/plain": [
       "array(70)"
      ]
     },
     "execution_count": 8,
     "metadata": {},
     "output_type": "execute_result"
    }
   ],
   "source": [
    "target_force = data['target_force']\n",
    "target_force"
   ]
  },
  {
   "cell_type": "code",
   "execution_count": 9,
   "metadata": {},
   "outputs": [
    {
     "name": "stdout",
     "output_type": "stream",
     "text": [
      "SVM Accuracy: 0.99\n"
     ]
    },
    {
     "data": {
      "image/png": "[encoded data removed]",
      "text/plain": [
       "<Figure size 600x400 with 2 Axes>"
      ]
     },
     "metadata": {},
     "output_type": "display_data"
    },
    {
     "name": "stdout",
     "output_type": "stream",
     "text": [
      "              precision    recall  f1-score   support\n",
      "\n",
      "          20       1.00      1.00      1.00       533\n",
      "          30       0.99      1.00      0.99       514\n",
      "          40       1.00      1.00      1.00       571\n",
      "          50       0.99      1.00      0.99       505\n",
      "          60       1.00      0.99      1.00       587\n",
      "          70       0.99      1.00      1.00       502\n",
      "          80       1.00      0.98      0.99       515\n",
      "\n",
      "    accuracy                           0.99      3727\n",
      "   macro avg       0.99      0.99      0.99      3727\n",
      "weighted avg       0.99      0.99      0.99      3727\n",
      "\n"
     ]
    }
   ],
   "source": [
    "# SVM\n",
    "X_all_t_train, X_all_t_test, y_all_t_train, y_all_t_test = train_test_split(X_all_target, y_all_target, test_size=0.2, random_state=42)\n",
    "\n",
    "# Standardize features\n",
    "scaler = StandardScaler()\n",
    "X_all_t_train = scaler.fit_transform(X_all_t_train) \n",
    "X_all_t_test = scaler.transform(X_all_t_test) \n",
    "\n",
    "# Initialize and train SVM model\n",
    "svm_model = SVC(kernel='linear')  \n",
    "svm_model.fit(X_all_t_train, y_all_t_train)\n",
    "\n",
    "# Make predictions on the test set\n",
    "y_pred_svm_all = svm_model.predict(X_all_t_test)\n",
    "\n",
    "# Evaluate SVM accuracy on the test set\n",
    "accuracy_svm_all = accuracy_score(y_all_t_test, y_pred_svm_all)\n",
    "print(f'SVM Accuracy: {accuracy_svm_all:.2f}')\n",
    "\n",
    "# Confusion matrix for SVM (only on test set)\n",
    "cm_svm = confusion_matrix(y_all_t_test, y_pred_svm_all)\n",
    "\n",
    "# Plot confusion matrix\n",
    "plt.figure(figsize=(6,4))\n",
    "sns.heatmap(cm_svm, annot=True, fmt=\"d\", cmap=\"Blues\", xticklabels=[\"20\", \"30\", \"40\", \"50\", \"60\", \"70\", \"80\"], yticklabels=[\"20\", \"30\", \"40\", \"50\", \"60\", \"70\", \"80\"])\n",
    "plt.xlabel('Predicted')\n",
    "plt.ylabel('Truth')\n",
    "plt.title('Confusion Matrix - SVM')\n",
    "plt.show()\n",
    "\n",
    "print(classification_report(y_all_t_test, y_pred_svm_all, target_names=[\"20\", \"30\", \"40\", \"50\", \"60\", \"70\", \"80\"]))"
   ]
  },
  {
   "cell_type": "code",
   "execution_count": 10,
   "metadata": {},
   "outputs": [
    {
     "name": "stdout",
     "output_type": "stream",
     "text": [
      "Random Forest Accuracy: 1.00\n"
     ]
    },
    {
     "data": {
      "image/png": "[encoded data removed]",
      "text/plain": [
       "<Figure size 600x400 with 2 Axes>"
      ]
     },
     "metadata": {},
     "output_type": "display_data"
    },
    {
     "name": "stdout",
     "output_type": "stream",
     "text": [
      "              precision    recall  f1-score   support\n",
      "\n",
      "          20       1.00      1.00      1.00       533\n",
      "          30       1.00      1.00      1.00       514\n",
      "          40       1.00      1.00      1.00       571\n",
      "          50       1.00      1.00      1.00       505\n",
      "          60       1.00      1.00      1.00       587\n",
      "          70       1.00      1.00      1.00       502\n",
      "          80       1.00      1.00      1.00       515\n",
      "\n",
      "    accuracy                           1.00      3727\n",
      "   macro avg       1.00      1.00      1.00      3727\n",
      "weighted avg       1.00      1.00      1.00      3727\n",
      "\n"
     ]
    }
   ],
   "source": [
    "rf_model = RandomForestClassifier(n_estimators=100, random_state=42)\n",
    "rf_model.fit(X_all_t_train, y_all_t_train)\n",
    "\n",
    "# Make predictions with Random Forest\n",
    "y_pred_rf = rf_model.predict(X_all_t_test)\n",
    "\n",
    "# Evaluate Random Forest accuracy\n",
    "accuracy_rf = accuracy_score(y_all_t_test, y_pred_rf)\n",
    "print(f'Random Forest Accuracy: {accuracy_rf:.2f}')\n",
    "\n",
    "# Confusion matrix for Random Forest\n",
    "cm_rf = confusion_matrix(y_all_t_test, y_pred_rf)\n",
    "plt.figure(figsize=(6,4))\n",
    "sns.heatmap(cm_rf, annot=True, fmt=\"d\", cmap=\"Greens\", xticklabels=[\"20\", \"30\", \"40\", \"50\", \"60\", \"70\", \"80\"], yticklabels=[\"20\", \"30\", \"40\", \"50\", \"60\", \"70\", \"80\"])\n",
    "plt.xlabel('Predicted')\n",
    "plt.ylabel('Actual')\n",
    "plt.title('Confusion Matrix - Random Forest')\n",
    "plt.show()\n",
    "\n",
    "print(classification_report(y_all_t_test, y_pred_rf, target_names=[\"20\", \"30\", \"40\", \"50\", \"60\", \"70\", \"80\"]))"
   ]
  },
  {
   "cell_type": "code",
   "execution_count": null,
   "metadata": {},
   "outputs": [],
   "source": []
  }
 ],
 "metadata": {
  "kernelspec": {
   "display_name": "MA_Arash",
   "language": "python",
   "name": "python3"
  },
  "language_info": {
   "codemirror_mode": {
    "name": "ipython",
    "version": 3
   },
   "file_extension": ".py",
   "mimetype": "text/x-python",
   "name": "python",
   "nbconvert_exporter": "python",
   "pygments_lexer": "ipython3",
   "version": "3.10.16"
  }
 },
 "nbformat": 4,
 "nbformat_minor": 2
}
