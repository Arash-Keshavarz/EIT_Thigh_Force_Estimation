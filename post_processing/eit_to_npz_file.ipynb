{
 "cells": [
  {
   "cell_type": "markdown",
   "id": "db2a778e-c9a1-4788-b2d1-b13fd3ac43c7",
   "metadata": {},
   "source": [
    "# Convert `.eit` Files to a Different File Type\n",
    "\n",
    "### Most of the code was adapted from [EITLabworks/scioPy](https://github.com/EITLabworks/scioPy)"
   ]
  },
  {
   "cell_type": "markdown",
   "id": "28854137-fb54-468d-a628-bc7559362be2",
   "metadata": {},
   "source": [
    "## `.eit` $\\rightarrow$ `.npz`\n",
    "\n",
    "This example script shows how the `.eit` files of the EIT device created with the standard software can be converted into `.npz` files. "
   ]
  },
  {
   "cell_type": "code",
   "execution_count": 3,
   "id": "a66caadb-470e-4d9f-90e2-145ef68a72dd",
   "metadata": {},
   "outputs": [],
   "source": [
    "import os\n",
    "from datetime import datetime\n",
    "from glob import glob\n",
    "from utils import *\n",
    "import matplotlib.pyplot as plt\n",
    "import numpy as np"
   ]
  },
  {
   "cell_type": "code",
   "execution_count": null,
   "id": "25f57d80",
   "metadata": {},
   "outputs": [],
   "source": [
    "################################################################\n",
    "############# Convert .eit files to .npz files #################\n",
    "base_path = \"/Users/arash/Desktop/Uni_semester/Master_Thesis/Codes/Participant_test1/EIT_raw/20250113 09.24.18/setup\"\n",
    "tar_path = \"\"\n",
    "\n",
    "convert_fulldir_doteit_to_npz(base_path, tar_path)"
   ]
  },
  {
   "cell_type": "code",
   "execution_count": 3,
   "id": "be1672c3-2ff0-4c36-bb7a-fa1c5ade2356",
   "metadata": {},
   "outputs": [],
   "source": [
    "################################################################\n",
    "############# Process eit files and adjusts electrode pairing #################\n",
    "\n",
    "process_eit_files(tar_path=tar_path, skip=5, n_el=16)"
   ]
  },
  {
   "cell_type": "code",
   "execution_count": 4,
   "id": "bbcba77c-1b06-4266-ba70-72ac6d9cf044",
   "metadata": {},
   "outputs": [
    {
     "data": {
      "text/plain": [
       "['eit', 'timestamp']"
      ]
     },
     "execution_count": 4,
     "metadata": {},
     "output_type": "execute_result"
    }
   ],
   "source": [
    "\n",
    "tmp = np.load(\"eit_data/processed/setup_00001.npz\", allow_pickle=True)\n",
    "tmp.files"
   ]
  },
  {
   "cell_type": "code",
   "execution_count": 5,
   "id": "ef44f305-9438-4d27-a608-0c124d8c2a65",
   "metadata": {},
   "outputs": [
    {
     "data": {
      "image/png": "[encoded data removed]",
      "text/plain": [
       "<Figure size 640x480 with 1 Axes>"
      ]
     },
     "metadata": {},
     "output_type": "display_data"
    }
   ],
   "source": [
    "plt.title(tmp[\"timestamp\"])\n",
    "plt.imshow(tmp[\"eit\"].real)\n",
    "plt.show()"
   ]
  },
  {
   "cell_type": "code",
   "execution_count": null,
   "id": "a4277998",
   "metadata": {},
   "outputs": [],
   "source": []
  }
 ],
 "metadata": {
  "kernelspec": {
   "display_name": "Python 3",
   "language": "python",
   "name": "python3"
  },
  "language_info": {
   "codemirror_mode": {
    "name": "ipython",
    "version": 3
   },
   "file_extension": ".py",
   "mimetype": "text/x-python",
   "name": "python",
   "nbconvert_exporter": "python",
   "pygments_lexer": "ipython3",
   "version": "3.11.10"
  }
 },
 "nbformat": 4,
 "nbformat_minor": 5
}
