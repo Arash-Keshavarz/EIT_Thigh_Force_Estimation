{
 "cells": [
  {
   "cell_type": "markdown",
   "id": "db2a778e-c9a1-4788-b2d1-b13fd3ac43c7",
   "metadata": {},
   "source": [
    "# Convert `.eit` Files to a Different File Type\n",
    "\n",
    "### Most of the code was adapted from [EITLabworks/scioPy](https://github.com/EITLabworks/scioPy)"
   ]
  },
  {
   "cell_type": "markdown",
   "id": "28854137-fb54-468d-a628-bc7559362be2",
   "metadata": {},
   "source": [
    "## `.eit` $\\rightarrow$ `.npz`\n",
    "\n",
    "This example script shows how the `.eit` files of the EIT device created with the standard software can be converted into `.npz` files. "
   ]
  },
  {
   "cell_type": "code",
   "execution_count": 2,
   "id": "a66caadb-470e-4d9f-90e2-145ef68a72dd",
   "metadata": {},
   "outputs": [],
   "source": [
    "import os\n",
    "from datetime import datetime\n",
    "from glob import glob\n",
    "\n",
    "import matplotlib.pyplot as plt\n",
    "import numpy as np\n",
    "from toolbox import Protocol, convert_fulldir_doteit_to_npz"
   ]
  },
  {
   "cell_type": "code",
   "execution_count": 3,
   "id": "6195baef-3293-47ba-847b-1c80e1fae870",
   "metadata": {},
   "outputs": [
    {
     "name": "stdout",
     "output_type": "stream",
     "text": [
      "../measurements/P06/Participant_P06_protocol.json\n",
      "{'participant': {'Number': 'P06', 'age': '29', 'gender': 'female', 'leg': 'right'}, 'isokinetic_measurement': {'rotation_velocity': '30 °/s', 'force_levels': '[70 70 40 40 30 30 60 60 80 80 20 20 50 50]'}, 'eit_measurement': {'excitation_frequency': 125000, 'burst_count': 0, 'amplitude': '1 mA', 'frame_rate': 40, 'n_el': 16, 'injection_skip': 5}, 'notes': 'Lever Arm: 31.4 cm'}\n"
     ]
    }
   ],
   "source": [
    "file_path = \"../measurements/P06/\"\n",
    "\n",
    "protocol = Protocol(file_path)"
   ]
  },
  {
   "cell_type": "code",
   "execution_count": 4,
   "id": "25f57d80",
   "metadata": {},
   "outputs": [],
   "source": [
    "convert_fulldir_doteit_to_npz(file_path, protocol)"
   ]
  },
  {
   "cell_type": "code",
   "execution_count": 5,
   "id": "bbcba77c-1b06-4266-ba70-72ac6d9cf044",
   "metadata": {},
   "outputs": [
    {
     "data": {
      "text/plain": [
       "['eit', 'timestamp']"
      ]
     },
     "execution_count": 5,
     "metadata": {},
     "output_type": "execute_result"
    }
   ],
   "source": [
    "tmp = np.load(\"../measurements/P06/eit_npz/setup_00001.npz\", allow_pickle=True)\n",
    "tmp.files"
   ]
  },
  {
   "cell_type": "code",
   "execution_count": 6,
   "id": "ef44f305-9438-4d27-a608-0c124d8c2a65",
   "metadata": {},
   "outputs": [
    {
     "data": {
      "image/png": "[encoded data removed]",
      "text/plain": [
       "<Figure size 640x480 with 1 Axes>"
      ]
     },
     "metadata": {},
     "output_type": "display_data"
    }
   ],
   "source": [
    "plt.title(tmp[\"timestamp\"])\n",
    "plt.imshow(tmp[\"eit\"].real)\n",
    "plt.show()"
   ]
  },
  {
   "cell_type": "markdown",
   "id": "736323b0-406b-4c96-aeda-1c503476320e",
   "metadata": {},
   "source": [
    "**Convert all .npz**"
   ]
  },
  {
   "cell_type": "code",
   "execution_count": 9,
   "id": "0e422144-31dd-4dd7-b7e0-7322e85074eb",
   "metadata": {},
   "outputs": [
    {
     "name": "stdout",
     "output_type": "stream",
     "text": [
      "../measurements/P01/\n",
      "../measurements/P01/Participant_P01_protocol.json\n",
      "{'participant': {'Number': 'P01', 'age': '22', 'gender': 'male', 'leg': 'right'}, 'isokinetic_measurement': {'rotation_velocity': '30 °/s', 'force_levels': '[40 40 80 80 70 70 30 30 20 20 60 60 50 50]'}, 'eit_measurement': {'excitation_frequency': 125000, 'burst_count': 0, 'amplitude': '1 mA', 'frame_rate': 40, 'n_el': 16, 'injection_skip': 5}, 'notes': 'Lever Arm:  36.4 cm\\n\\nforce level was not random , we did again\\n70 80 40 30 20 60 50 is correct one'}\n",
      "../measurements/P02/\n",
      "../measurements/P02/Participant_P02_protocol.json\n",
      "{'participant': {'Number': 'P02', 'age': '22', 'gender': 'female', 'leg': 'right'}, 'isokinetic_measurement': {'rotation_velocity': '30 °/s', 'force_levels': '[20 20 60 60 40 40 70 70 30 30 80 80 50 50]'}, 'eit_measurement': {'excitation_frequency': 125000, 'burst_count': 0, 'amplitude': '1 mA', 'frame_rate': 40, 'n_el': 16, 'injection_skip': 5}, 'notes': 'Lever Arm: 29 cm'}\n",
      "../measurements/P03/\n",
      "../measurements/P03/Participant_P03_protocol.json\n",
      "{'participant': {'Number': 'P03', 'age': '30', 'gender': 'female', 'leg': 'right'}, 'isokinetic_measurement': {'rotation_velocity': '30 °/s', 'force_levels': '[60 60 30 30 20 20 50 50 80 80 70 70 40 40]'}, 'eit_measurement': {'excitation_frequency': 125000, 'burst_count': 0, 'amplitude': '1 mA', 'frame_rate': 40, 'n_el': 16, 'injection_skip': 5}, 'notes': 'Lever Arm:  29.3 cm'}\n",
      "No .eit files found in directory: ../measurements/P03/\n",
      "../measurements/P04/\n",
      "../measurements/P04/Participant_P04_protocol.json\n",
      "{'participant': {'Number': 'P04', 'age': '20', 'gender': 'female', 'leg': 'right'}, 'isokinetic_measurement': {'rotation_velocity': '30 °/s', 'force_levels': '[30 30 20 20 70 70 80 80 50 50 40 40 60 60]'}, 'eit_measurement': {'excitation_frequency': 125000, 'burst_count': 0, 'amplitude': '1 mA', 'frame_rate': 40, 'n_el': 16, 'injection_skip': 5}, 'notes': 'Lever Arm: 28.4 cm'}\n",
      "../measurements/P05/\n",
      "../measurements/P05/Participant_P05_protocol.json\n",
      "{'participant': {'Number': 'P05', 'age': '20', 'gender': 'female', 'leg': 'right'}, 'isokinetic_measurement': {'rotation_velocity': '30 °/s', 'force_levels': '[50 50 40 40 70 70 80 80 20 20 30 30 60 60]'}, 'eit_measurement': {'excitation_frequency': 125000, 'burst_count': 0, 'amplitude': '1 mA', 'frame_rate': 40, 'n_el': 16, 'injection_skip': 5}, 'notes': 'Lever Arm: 30.9 cm'}\n",
      "../measurements/P06/\n",
      "../measurements/P06/Participant_P06_protocol.json\n",
      "{'participant': {'Number': 'P06', 'age': '29', 'gender': 'female', 'leg': 'right'}, 'isokinetic_measurement': {'rotation_velocity': '30 °/s', 'force_levels': '[70 70 40 40 30 30 60 60 80 80 20 20 50 50]'}, 'eit_measurement': {'excitation_frequency': 125000, 'burst_count': 0, 'amplitude': '1 mA', 'frame_rate': 40, 'n_el': 16, 'injection_skip': 5}, 'notes': 'Lever Arm: 31.4 cm'}\n"
     ]
    }
   ],
   "source": [
    "for p in range(1, 7):\n",
    "    file_path = \"../measurements/P{0:02d}/\".format(p)\n",
    "    print(file_path)\n",
    "    protocol = Protocol(file_path)\n",
    "    convert_fulldir_doteit_to_npz(file_path, protocol)"
   ]
  },
  {
   "cell_type": "code",
   "execution_count": null,
   "id": "8e16c8ef-cbdd-433c-a572-5631d4316b3f",
   "metadata": {},
   "outputs": [],
   "source": []
  }
 ],
 "metadata": {
  "kernelspec": {
   "display_name": "Python 3 (ipykernel)",
   "language": "python",
   "name": "python3"
  },
  "language_info": {
   "codemirror_mode": {
    "name": "ipython",
    "version": 3
   },
   "file_extension": ".py",
   "mimetype": "text/x-python",
   "name": "python",
   "nbconvert_exporter": "python",
   "pygments_lexer": "ipython3",
   "version": "3.12.2"
  }
 },
 "nbformat": 4,
 "nbformat_minor": 5
}
