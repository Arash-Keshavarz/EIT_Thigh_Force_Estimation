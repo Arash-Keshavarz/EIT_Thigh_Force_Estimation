{
 "cells": [
  {
   "cell_type": "markdown",
   "id": "db2a778e-c9a1-4788-b2d1-b13fd3ac43c7",
   "metadata": {},
   "source": [
    "# Convert `.eit` files to a different file type"
   ]
  },
  {
   "cell_type": "markdown",
   "id": "28854137-fb54-468d-a628-bc7559362be2",
   "metadata": {},
   "source": [
    "## `.eit` $\\rightarrow$ `.npz`\n",
    "\n",
    "This example script shows how the `.eit` files of the EIT device created with the standard software can be converted into `.npz` files. "
   ]
  },
  {
   "cell_type": "code",
   "execution_count": 1,
   "id": "a66caadb-470e-4d9f-90e2-145ef68a72dd",
   "metadata": {},
   "outputs": [],
   "source": [
    "import os\n",
    "from datetime import datetime\n",
    "from glob import glob\n",
    "\n",
    "import matplotlib.pyplot as plt\n",
    "import numpy as np\n",
    "from sciopy.doteit import convert_fulldir_doteit_to_npz"
   ]
  },
  {
   "cell_type": "code",
   "execution_count": 2,
   "id": "fc98c88b-ac57-4904-b218-c1f4373044f8",
   "metadata": {},
   "outputs": [],
   "source": [
    "def convert_timestamp(date_str):\n",
    "    if len(str(date_str).split(\".\")) > 2:\n",
    "        timestamp = datetime.strptime(date_str, \"%Y.%m.%d. %H:%M:%S.%f\")\n",
    "        return timestamp.timestamp()\n",
    "    else:\n",
    "        date_time = datetime.fromtimestamp(float(date_str))\n",
    "        return date_time.strftime(\"%Y.%m.%d. %H:%M:%S.%f\")"
   ]
  },
  {
   "cell_type": "code",
   "execution_count": 3,
   "id": "be1672c3-2ff0-4c36-bb7a-fa1c5ade2356",
   "metadata": {},
   "outputs": [],
   "source": [
    "# set source path\n",
    "src_path = \"eit_data/20250109 09.27.21/setup/\"\n",
    "try:\n",
    "    tar_path = \"eit_data/processed/\"\n",
    "    os.mkdir(tar_path)\n",
    "except BaseException:\n",
    "    print(\"folder exists\")"
   ]
  },
  {
   "cell_type": "code",
   "execution_count": 4,
   "id": "2a2d6510-1fb6-4304-b388-0c82a27b01c8",
   "metadata": {},
   "outputs": [],
   "source": [
    "### TBD:!!! Combine this into one function\n",
    "# |-------------------------------------------------------------------|\n",
    "convert_fulldir_doteit_to_npz(src_path, tar_path)\n",
    "\n",
    "skip = 5\n",
    "n_el = 16\n",
    "\n",
    "for ele in glob(tar_path + \"/*.npz\"):\n",
    "    tmp_eit = np.load(ele, allow_pickle=True)\n",
    "\n",
    "    els = np.arange(1, n_el + 1)\n",
    "    mat = np.zeros((n_el, n_el), dtype=complex)\n",
    "\n",
    "    for i1, i2 in zip(els, np.roll(els, -(skip + 1))):\n",
    "        mat[i1 - 1, :n_el] = tmp_eit[f\"{i1}_{i2}\"][:n_el]\n",
    "\n",
    "    np.savez(\n",
    "        ele,\n",
    "        eit=mat,\n",
    "        timestamp=convert_timestamp(tmp_eit[\"date_time\"].tolist()),\n",
    "    )\n",
    "\n",
    "# |-------------------------------------------------------------------|\n",
    "### TBD:!!! Combine this into one function"
   ]
  },
  {
   "cell_type": "code",
   "execution_count": 5,
   "id": "bbcba77c-1b06-4266-ba70-72ac6d9cf044",
   "metadata": {},
   "outputs": [
    {
     "data": {
      "text/plain": [
       "['eit', 'timestamp']"
      ]
     },
     "execution_count": 5,
     "metadata": {},
     "output_type": "execute_result"
    }
   ],
   "source": [
    "tmp = np.load(\"eit_data/processed/setup_00001.npz\", allow_pickle=True)\n",
    "tmp.files"
   ]
  },
  {
   "cell_type": "code",
   "execution_count": 6,
   "id": "ef44f305-9438-4d27-a608-0c124d8c2a65",
   "metadata": {},
   "outputs": [
    {
     "data": {
      "image/png": "[encoded data removed]",
      "text/plain": [
       "<Figure size 640x480 with 1 Axes>"
      ]
     },
     "metadata": {},
     "output_type": "display_data"
    }
   ],
   "source": [
    "plt.title(tmp[\"timestamp\"])\n",
    "plt.imshow(tmp[\"eit\"].real)\n",
    "plt.show()"
   ]
  }
 ],
 "metadata": {
  "kernelspec": {
   "display_name": "Python 3 (ipykernel)",
   "language": "python",
   "name": "python3"
  },
  "language_info": {
   "codemirror_mode": {
    "name": "ipython",
    "version": 3
   },
   "file_extension": ".py",
   "mimetype": "text/x-python",
   "name": "python",
   "nbconvert_exporter": "python",
   "pygments_lexer": "ipython3",
   "version": "3.12.2"
  }
 },
 "nbformat": 4,
 "nbformat_minor": 5
}
